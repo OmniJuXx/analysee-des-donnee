{
 "cells": [
  {
   "cell_type": "markdown",
   "metadata": {},
   "source": [
    "# Human Activities"
   ]
  },
  {
   "cell_type": "markdown",
   "metadata": {},
   "source": [
    "Notebook de préparation TP du jeudi 19 novembre"
   ]
  },
  {
   "cell_type": "markdown",
   "metadata": {},
   "source": [
    "Pour ce TP nous allons proposer un clustering de données d'acceleromètres enregistrées sur les smart-phones\n",
    "Les données sources sont disponibles sur le site de l'UCI https://archive.ics.uci.edu/ml/datasets/Human+Activity+Recognition+Using+Smartphones#\n",
    "\n",
    "\"The experiments have been carried out with a group of 30 volunteers within an age bracket of 19-48 years. Each person performed six activities (WALKING, WALKING_UPSTAIRS, WALKING_DOWNSTAIRS, SITTING, STANDING, LAYING) wearing a smartphone (Samsung Galaxy S II) on the waist. Using its embedded accelerometer and gyroscope, we captured 3-axial linear acceleration and 3-axial angular velocity at a constant rate of 50Hz. The experiments have been video-recorded to label the data manually.\n",
    "\n",
    "The sensor signals (accelerometer and gyroscope) were pre-processed by applying noise filters and then sampled in fixed-width sliding windows of 2.56 sec and 50% overlap (128 readings/window). The sensor acceleration signal, which has gravitational and body motion components, was separated using a Butterworth low-pass filter into body acceleration and gravity. The gravitational force is assumed to have only low frequency components, therefore a filter with 0.3 Hz cutoff frequency was used. From each window, a vector of features was obtained by calculating variables from the time and frequency domain. See 'features_info.txt' for more details.\"\n"
   ]
  },
  {
   "cell_type": "markdown",
   "metadata": {
    "collapsed": false
   },
   "source": [
    "**Excercice : Importation.** Importer les données : \n",
    "- \"/UCI HAR Dataset/features.txt\" dans un objet pandas que vous nommerez features_names,\n",
    "- \"/UCI HAR Dataset/train/X_train.txt\" dans un objet pandas que vous nommerez activity_features,\n",
    "- \"/UCI HAR Dataset/train/y_train.txt\" dans un objet pandas que vous nommerez activity,\n",
    "- \"/UCI HAR Dataset/train/subject_train.txt\" dans un objet pandas que vous nommerez sujet.\n",
    "\n",
    "Typiquement vous pourrez utiliser une syntaxe de la forme suivante :"
   ]
  },
  {
   "cell_type": "markdown",
   "metadata": {
    "collapsed": true
   },
   "source": [
    "```\n",
    "features_names = pd.read_csv(\"features.txt\",delim_whitespace=True,header=None)\n",
    "```"
   ]
  },
  {
   "cell_type": "markdown",
   "metadata": {},
   "source": [
    "**Excercice : matrice des corrélation.** Représenter la matrice des corrélations des descripteurs (dataframe activity_features)"
   ]
  },
  {
   "cell_type": "markdown",
   "metadata": {},
   "source": [
    "**Excercice : sujet 1.** Pour extraire le dataframe des descripteurs pour les données du sujet 1, executer le code suivant :"
   ]
  },
  {
   "cell_type": "markdown",
   "metadata": {
    "collapsed": true
   },
   "source": [
    "```\n",
    "features_sujet1 = activity_features.iloc[I1] #  syntaxe pandas \n",
    "features_sujet1.head()\n",
    "```"
   ]
  },
  {
   "cell_type": "markdown",
   "metadata": {},
   "source": [
    "Extraire de même les activités correspondantes du sujet 1. Vous nommerez act_sujet1 le vecteur correspondant"
   ]
  },
  {
   "cell_type": "markdown",
   "metadata": {
    "collapsed": false
   },
   "source": [
    "**Excercice : scrit pour kmeans.** Ecrire une fonction mykmeans (dans un sript mykmeans.py) pour l'algorithme K-Means."
   ]
  },
  {
   "cell_type": "markdown",
   "metadata": {},
   "source": [
    "**Excercice : ACP et kmeans.**\n",
    "- Effectuer une ACP des données features_sujet1 et former le tableau DataExtract dont les colonnes sont les 5 premières composantes de l'ACP.\n",
    "- Appliquer la fonction mykmeans  à ces données pour obtenir un clustering à 6 classes. On appelle $\\mathcal{C}_1$ ce clustering dans la suite.\n",
    "- Représenter le clustering $\\mathcal{C}_1$ sur les deux premières composantes de l'ACP."
   ]
  },
  {
   "cell_type": "markdown",
   "metadata": {},
   "source": [
    "**Excercice : kmeans++.**\n",
    "- lire la doc de la fonction kmeans de sklearn http://scikit-learn.org/stable/modules/generated/sklearn.cluster.KMeans.html\n",
    "- Executer un algorithme kmeans++ sur les données DataExtract (avec 6 classes) :"
   ]
  },
  {
   "cell_type": "markdown",
   "metadata": {
    "collapsed": false
   },
   "source": [
    "```\n",
    "from sklearn.cluster import KMeans\n",
    "clustering_KMeans = KMeans(n_clusters=6, init='k-means++', n_init=10, max_iter=300)\n",
    "clustering_KMeans.fit(DataExtract)\n",
    "```"
   ]
  },
  {
   "cell_type": "markdown",
   "metadata": {},
   "source": [
    "- Représenter ce clustering sur les deux premières composantes de l'ACP."
   ]
  },
  {
   "cell_type": "markdown",
   "metadata": {
    "collapsed": true
   },
   "source": [
    "**Excercice : matrice de confusion.**\n",
    "- lire la doc sur la matrice de confusion entre deux classifications : http://scikit-learn.org/stable/auto_examples/model_selection/plot_confusion_matrix.html\n",
    "- Comparer les cluserings $\\mathcal C_1$, $\\mathcal C_2$ et les vraies activitées données par act_sujet1"
   ]
  }
 ],
 "metadata": {
  "kernelspec": {
   "display_name": "Python 2",
   "language": "python",
   "name": "python2"
  },
  "language_info": {
   "codemirror_mode": {
    "name": "ipython",
    "version": 2
   },
   "file_extension": ".py",
   "mimetype": "text/x-python",
   "name": "python",
   "nbconvert_exporter": "python",
   "pygments_lexer": "ipython2",
   "version": "2.7.9"
  }
 },
 "nbformat": 4,
 "nbformat_minor": 0
}
