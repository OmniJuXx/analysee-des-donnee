{
 "cells": [
  {
   "cell_type": "code",
   "execution_count": null,
   "metadata": {
    "collapsed": true
   },
   "outputs": [],
   "source": [
    "from pylab import *\n",
    "import pandas as pds"
   ]
  },
  {
   "cell_type": "markdown",
   "metadata": {},
   "source": [
    "# Importation des données"
   ]
  },
  {
   "cell_type": "markdown",
   "metadata": {},
   "source": [
    "Les données étudiées dans ce TP provienne de la plateforme de données [Dataverse](https://dataverse.harvard.edu/dataset.xhtml?persistentId=hdl:1902.1/12379), elles contiennent des indices de similarité entre les votes des pays à l'ONU. \n",
    "\n",
    "**Excercice :**\n",
    "- Télécharger les données de vote à l'ONU enregistrées dans le fichier [AffinitesVotesONU.txt](http://www.lsta.upmc.fr/ADDA/DataReducDim/AffinitesVotesONU.txt) (80 Mb) ainsi que le fichier [StateList.csv](http://www.lsta.upmc.fr/ADDA/DataReducDim/StateList.csv).\n",
    "- Importer les données dans Python à l'aide la libraire Pandas."
   ]
  },
  {
   "cell_type": "markdown",
   "metadata": {},
   "source": [
    "Le fichier AffinitesVotesONU.txt est organisé comme indiqué ci-dessous :\n",
    "- Une ligne renseigne la similarité des votes pour deux pays pendant une année.\n",
    "- Les états sont codés par les champs \"statea\" et \"stateb\". \n",
    "- Le champ  \"year\" donne l'année considérée pour la comparaison des votes.\n",
    "- Plusieurs indices de comparaison des votes sont fournis, dans la suite on s'intéresse à l'indice de similarité sur 3 niveaux  de votes (oui / non / abstension) :  \"agree3un\".\n",
    "\n",
    "**Excercice : ** Afficher les premières lignes du dataframe VotingFull."
   ]
  },
  {
   "cell_type": "markdown",
   "metadata": {},
   "source": [
    "Le fichier StateList.csv est organisé comme indiqué ci-dessous :\n",
    "- Une ligne correspond à un pays.\n",
    "- Le champ \"StateAbb\" nous donne les abréviations (utile pour les représentations graphiques)\n",
    "- Le champ \"state\" est le même code que celui utilisé dans VotingFull\n",
    "- Le champ \"CodeTP\" est simplement le numéro de ligne\n",
    "- Les champs \"OPEP\" et \"UE\" renseignent l'entrée dans l'OPEP ou dans l'UE (0 sinon).\n",
    "Afficher les premières lignes du dataframe StateList.\n",
    "\n",
    "**Excercice : ** Afficher les premières lignes du dataframeAffichage des premières lignes de VotingFull et ListCountry"
   ]
  },
  {
   "cell_type": "markdown",
   "metadata": {},
   "source": [
    "# Extraction des similarités de vote pour une periode donnée"
   ]
  },
  {
   "cell_type": "code",
   "execution_count": null,
   "metadata": {
    "collapsed": false
   },
   "outputs": [],
   "source": [
    "# periode étudiée :\n",
    "annee_debut = 2000\n",
    "annee_fin  = 2015   \n",
    "\n",
    "# indice max des indices \"state\"\n",
    "maxstate = max(ListCountry.state.values)\n",
    "\n",
    "# indice max dans CodeTP\n",
    "maxCodeTP = max(ListCountry.CodeTP.values)"
   ]
  },
  {
   "cell_type": "markdown",
   "metadata": {},
   "source": [
    "Le vecteur Translate ci-dessous permet de passer du codage \"state\" au codage \"CodeTP\"."
   ]
  },
  {
   "cell_type": "code",
   "execution_count": null,
   "metadata": {
    "collapsed": true
   },
   "outputs": [],
   "source": [
    "Translate =   - np.ones(maxstate+1,dtype = int) #\n",
    "for numline in range(maxCodeTP):\n",
    "    Translate[ListCountry.state[numline]] =  ListCountry.CodeTP[numline]"
   ]
  },
  {
   "cell_type": "markdown",
   "metadata": {},
   "source": [
    "Par exemple le pays de code statea = 40 a pour indice indice 3 (on part de 0) pour \"CodeTP\" :"
   ]
  },
  {
   "cell_type": "code",
   "execution_count": null,
   "metadata": {
    "collapsed": false
   },
   "outputs": [],
   "source": [
    "Translate[40]"
   ]
  },
  {
   "cell_type": "markdown",
   "metadata": {},
   "source": [
    "###Création de la matrice de dissimilarité $Dissimil$ \n",
    "\n",
    "Les numéros de ligne et de colonnes de $Dissimil$ correspondent au code \"CodeTP\". On remplit la matrice de similarité en parcourant les lignes de VotingFull, en ne selectionant que l'année \"annee_choice\" (ce code peut prendre quelques secondes).\n",
    "La dissimilarité d'une année t est définie par :  1 - agree3un(t).\n",
    "On cumule les dissimilarités sur la periode étudiée : \n",
    "$$Dissimil (paysA,paysB) = \\sum_{t= debut} ^{fin}  (1- agree3un(t)) $$ \n"
   ]
  },
  {
   "cell_type": "code",
   "execution_count": null,
   "metadata": {
    "collapsed": false
   },
   "outputs": [],
   "source": [
    "# création de la matrice de bonne dimension :\n",
    "Dissimil = - np.ones((maxCodeTP,maxCodeTP)) "
   ]
  },
  {
   "cell_type": "markdown",
   "metadata": {},
   "source": [
    "**Exercice :** parcourir les données de VotingFull pour rempir la matrice Dissimil."
   ]
  },
  {
   "cell_type": "markdown",
   "metadata": {},
   "source": [
    "Attention !  Certaines lignes ne sont pas remplie car tous les pays ne sont pas renseignés dans la matrice car certains pays n'existent pas ou plus à la date choisie. \n",
    "Par exemple Dissimil[50,] ne contient que des -1."
   ]
  },
  {
   "cell_type": "markdown",
   "metadata": {},
   "source": [
    "On doit retirer ces pays de la matrice de similarité, ce sont les pays dont les lignes ou colonnes ont une somme égale à - maxCodeTP (car la matrice est de taille maxCodeTP x maxCodeTP).\n",
    "\n",
    "**Exercice :** Extraire la sous matrice de dissimilarité des pays dont les lignes (ou les colonnes) ne sont pas uniquement composées de -1. Une fois la matrice extraire, corriger la diagonale pour remplacer les -1 par des 0."
   ]
  },
  {
   "cell_type": "markdown",
   "metadata": {},
   "source": [
    "#Classical MDS"
   ]
  },
  {
   "cell_type": "markdown",
   "metadata": {},
   "source": [
    "**Exercice** : Ecrire une fonction Python pour l'algorithme CMDS :\n",
    "- en entrée une matrice de dissimilarité et une dimension p\n",
    "- en sortie : une configuration du nuage dans $\\mathbb R^p$.\n",
    "Ecrire cette fonction dans un fichier nommé ClassicalMDS.py, que vous pourrez utiliser dans le notebook en l'important comme suit (consultez par exemple ce [lien](https://fr.wikibooks.org/wiki/Apprendre_à_programmer_avec_Python/Fonctions_originales)) :"
   ]
  },
  {
   "cell_type": "code",
   "execution_count": null,
   "metadata": {
    "collapsed": false
   },
   "outputs": [],
   "source": [
    "from ClassicalMDS import *"
   ]
  },
  {
   "cell_type": "markdown",
   "metadata": {},
   "source": [
    "**Exercice** : Appliquer votre fonction à la matrice Dissimil"
   ]
  },
  {
   "cell_type": "code",
   "execution_count": null,
   "metadata": {
    "collapsed": true
   },
   "outputs": [],
   "source": []
  }
 ],
 "metadata": {
  "kernelspec": {
   "display_name": "Python 2",
   "language": "python",
   "name": "python2"
  },
  "language_info": {
   "codemirror_mode": {
    "name": "ipython",
    "version": 2
   },
   "file_extension": ".py",
   "mimetype": "text/x-python",
   "name": "python",
   "nbconvert_exporter": "python",
   "pygments_lexer": "ipython2",
   "version": "2.7.9"
  }
 },
 "nbformat": 4,
 "nbformat_minor": 0
}
