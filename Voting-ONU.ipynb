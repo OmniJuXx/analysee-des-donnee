{
 "cells": [
  {
   "cell_type": "code",
   "execution_count": null,
   "metadata": {
    "collapsed": false
   },
   "outputs": [],
   "source": [
    "import matplotlib.pyplot as plt\n",
    "from mpl_toolkits.mplot3d import Axes3D\n",
    "from pylab import *\n",
    "import pandas as pds\n",
    "from sklearn import manifold\n",
    "%matplotlib inline"
   ]
  },
  {
   "cell_type": "markdown",
   "metadata": {},
   "source": [
    "# Importation des données"
   ]
  },
  {
   "cell_type": "markdown",
   "metadata": {},
   "source": [
    "Les données étudiées dans ce TP provienne de la plateforme de données [Dataverse](https://dataverse.harvard.edu/dataset.xhtml?persistentId=hdl:1902.1/12379), elles contiennent des indices de similarité entre les votes des pays à l'ONU. \n",
    "\n",
    "- Télécharger les données de vote à l'ONU enregistrées dans le fichier [AffinitesVotesONU.txt](http://www.lsta.upmc.fr/ADDA/DataBertrand/AffinitesVotesONU.txt) (80 Mb) ainsi que le fichier [StateList.csv](http://www.lsta.upmc.fr/ADDA/DataBertrand/StateList.csv).\n",
    "- Importer les données dans Python à l'aide la libraire Pandas."
   ]
  },
  {
   "cell_type": "markdown",
   "metadata": {},
   "source": [
    "Le fichier AffinitesVotesONU.txt est organisé comme indiqué ci-dessous :\n",
    "- Une ligne renseigne la similarité des votes pour deux pays pendant une année.\n",
    "- Les états sont codés par les champs \"statea\" et \"stateb\". \n",
    "- Le champ  \"year\" donne l'année considérée pour la comparaison des votes.\n",
    "- Plusieurs indices de comparaison des votes sont fournis, dans la suite on s'intéresse à l'indice de similarité sur 3 niveaux  de votes (oui / non / abstension) :  \"agree3un\".\n",
    "\n",
    "Afficher les premières lignes du dataframe VotingFull."
   ]
  },
  {
   "cell_type": "markdown",
   "metadata": {},
   "source": [
    "Le fichier StateList.csv est organisé comme indiqué ci-dessous :\n",
    "- Une ligne correspond à un pays.\n",
    "- Le champ \"StateAbb\" nous donne les abréviations (utile pour les représentations graphiques)\n",
    "- Le champ \"state\" est le même code que celui utilisé dans VotingFull\n",
    "- Le champ \"CodeTP\" est simplement le numéro de ligne\n",
    "- Les champs \"OPEP\" et \"UE\" renseignent l'entrée dans l'OPEP ou dans l'UE (0 sinon).\n",
    "Afficher les premières lignes du dataframe StateList."
   ]
  },
  {
   "cell_type": "code",
   "execution_count": null,
   "metadata": {
    "collapsed": false
   },
   "outputs": [],
   "source": [
    "path_affinity= \"/Users/bmichel/Dropbox/Enseignements/ADD-M2Stat/Tps-Notebooks/Datasets/Voting-ONU/AffinitesVotesONU.txt\"\n",
    "VotingFull = pds.read_csv(path_affinity,delim_whitespace=True,header=0)\n",
    "path_affinity= \"/Users/bmichel/Dropbox/Enseignements/ADD-M2Stat/Tps-Notebooks/Datasets/Voting-ONU/StateList.csv\"\n",
    "ListCountry = pds.read_csv(path_affinity,header=0)"
   ]
  },
  {
   "cell_type": "markdown",
   "metadata": {},
   "source": [
    "Affichage des premières lignes de VotingFull et ListCountry"
   ]
  },
  {
   "cell_type": "code",
   "execution_count": null,
   "metadata": {
    "collapsed": false
   },
   "outputs": [],
   "source": [
    "VotingFull.head()"
   ]
  },
  {
   "cell_type": "code",
   "execution_count": null,
   "metadata": {
    "collapsed": false
   },
   "outputs": [],
   "source": [
    "ListCountry.head()"
   ]
  },
  {
   "cell_type": "markdown",
   "metadata": {},
   "source": [
    "# Extraction des similarités de vote pour une periode donnée"
   ]
  },
  {
   "cell_type": "code",
   "execution_count": null,
   "metadata": {
    "collapsed": true
   },
   "outputs": [],
   "source": [
    "# periode étudiée :\n",
    "annee_debut = 2000\n",
    "annee_fin  = 2015   \n",
    "\n",
    "# indice max des indices \"state\" (.values : syntaxe numpy )\n",
    "maxstate = max(ListCountry.state.values)\n",
    "\n",
    "# indice max dans CodeTP\n",
    "maxCodeTP = max(ListCountry.CodeTP.values)"
   ]
  },
  {
   "cell_type": "markdown",
   "metadata": {},
   "source": [
    "Le vecteur Translate ci-dessous permet de passer du codage \"state\" au codage \"CodeTP\"."
   ]
  },
  {
   "cell_type": "code",
   "execution_count": null,
   "metadata": {
    "collapsed": true
   },
   "outputs": [],
   "source": [
    "Translate =   - np.ones(maxstate+1,dtype = int) #\n",
    "for numline in range(maxCodeTP):\n",
    "    Translate[ListCountry.state[numline]] =  ListCountry.CodeTP[numline]"
   ]
  },
  {
   "cell_type": "markdown",
   "metadata": {},
   "source": [
    "Par exemple le pays de code statea = 40 a pour indice indice 3 (on part de 0) pour \"CodeTP\" :"
   ]
  },
  {
   "cell_type": "code",
   "execution_count": null,
   "metadata": {
    "collapsed": false
   },
   "outputs": [],
   "source": [
    "Translate[40]"
   ]
  },
  {
   "cell_type": "markdown",
   "metadata": {},
   "source": [
    "### Création de la matrice de dissimilarité $Dissimil$ "
   ]
  },
  {
   "cell_type": "markdown",
   "metadata": {},
   "source": [
    "Les numéros de ligne et de colonnes de $Dissimil$ correspondent au code \"CodeTP\". On remplit la matrice de similarité en parcourant les lignes de VotingFull, en ne selectionant que l'année \"annee_choice\" (ce code peut prendre quelques secondes).\n",
    "\n",
    "La dissimilarité d'une année t est définie par :  1 - agree3un(t).\n",
    "\n",
    "On cumule les dissimilarités sur la periode étudiée : \n",
    "$$Dissimil (paysA,paysB) = \\sum_{t= debut} ^{fin}  (1- agree3un(t)) $$ "
   ]
  },
  {
   "cell_type": "code",
   "execution_count": null,
   "metadata": {
    "collapsed": false
   },
   "outputs": [],
   "source": [
    "# création de la matrice (de bonne dimension)\n",
    "# que des 0 partout par défaut\n",
    "\n",
    "Dissimil = np.zeros((maxCodeTP,maxCodeTP)) \n",
    "\n",
    "# boucle sur les lignes de VotingFull (prend quelques secondes ...)\n",
    "for numline in range(VotingFull.shape[0]):\n",
    "    if (VotingFull.year[numline] >= annee_debut)&(VotingFull.year[numline] <= annee_fin): \n",
    "        Dissimil[Translate[VotingFull.statea[numline]],Translate[VotingFull.stateb[numline]]] +=  1-VotingFull.agree3un[numline]\n",
    "        Dissimil[Translate[VotingFull.stateb[numline]],Translate[VotingFull.statea[numline]]] +=  1- VotingFull.agree3un[numline]"
   ]
  },
  {
   "cell_type": "code",
   "execution_count": null,
   "metadata": {
    "collapsed": false
   },
   "outputs": [],
   "source": [
    "print(Dissimil[:,0])"
   ]
  },
  {
   "cell_type": "markdown",
   "metadata": {},
   "source": [
    "Attention !  Certaines lignes n'ont pas été remplies. En effet tous les pays ne sont pas renseignés dans la matrice car certains pays n'existent pas ou plus à la date choisie. \n",
    "Par exemple : "
   ]
  },
  {
   "cell_type": "code",
   "execution_count": null,
   "metadata": {
    "collapsed": false
   },
   "outputs": [],
   "source": [
    "Dissimil[50,]"
   ]
  },
  {
   "cell_type": "markdown",
   "metadata": {},
   "source": [
    "On doit retirer ces pays de la matrice de similarité, ce sont les pays dont les lignes ou colonnes ont une somme égale à - maxCodeTP (car la matrice est de taille maxCodeTP x maxCodeTP)."
   ]
  },
  {
   "cell_type": "code",
   "execution_count": null,
   "metadata": {
    "collapsed": false
   },
   "outputs": [],
   "source": [
    "I = np.array([ i for i in range(maxCodeTP) if Dissimil.sum(1)[i] != 0])\n",
    "print(I)"
   ]
  },
  {
   "cell_type": "markdown",
   "metadata": {},
   "source": [
    "Extraction de la sous matrice de similarité :"
   ]
  },
  {
   "cell_type": "code",
   "execution_count": null,
   "metadata": {
    "collapsed": false
   },
   "outputs": [],
   "source": [
    "DissimilExtract   = Dissimil[I,:][:,I]  #  rq : Dissimil[I,I] ne fonctionne pas"
   ]
  },
  {
   "cell_type": "markdown",
   "metadata": {},
   "source": [
    "Il faut aussi remplacer les -1  par des 0 sur la diagonale :"
   ]
  },
  {
   "cell_type": "code",
   "execution_count": null,
   "metadata": {
    "collapsed": false
   },
   "outputs": [],
   "source": [
    "n,p = DissimilExtract.shape"
   ]
  },
  {
   "cell_type": "markdown",
   "metadata": {},
   "source": [
    "Extraction du sous tableau de  ListCountry :"
   ]
  },
  {
   "cell_type": "code",
   "execution_count": null,
   "metadata": {
    "collapsed": false
   },
   "outputs": [],
   "source": [
    "ListCountryExtract = ListCountry.iloc[I]\n",
    "print(DissimilExtract[:,0])"
   ]
  },
  {
   "cell_type": "markdown",
   "metadata": {},
   "source": [
    "# Classical MDS"
   ]
  },
  {
   "cell_type": "markdown",
   "metadata": {},
   "source": [
    "**Exercice** : Ecrire une fonction Python pour l'algorithme CMDS :\n",
    "- en entrée une matrice de dissimilarité et une dimension p\n",
    "- en sortie : une configuration du nuage dans $\\mathbb R^p$.\n",
    "Ecrire cette fonction dans un fichier nommé ClassicalMDS.py, que vous pourrez utiliser dans le notebook en l'important comme suit (consultez par exemple ce [lien](https://fr.wikibooks.org/wiki/Apprendre_à_programmer_avec_Python/Fonctions_originales)) :"
   ]
  },
  {
   "cell_type": "code",
   "execution_count": null,
   "metadata": {
    "collapsed": false
   },
   "outputs": [],
   "source": [
    "from ClassicalMDS import *"
   ]
  },
  {
   "cell_type": "code",
   "execution_count": null,
   "metadata": {
    "collapsed": false
   },
   "outputs": [],
   "source": [
    "configCMDS = ClassicalMDS(Dissimil,3)\n",
    "print(configCMDS)"
   ]
  },
  {
   "cell_type": "code",
   "execution_count": null,
   "metadata": {
    "collapsed": false
   },
   "outputs": [],
   "source": [
    "fig = plt.figure(figsize = (18,18))\n",
    "ax = fig.add_subplot(111)\n",
    "CMDSAxe0 =configCMDS[:,0]\n",
    "CMDSAxe1 =configCMDS[:,1]\n",
    "ax.scatter(CMDSAxe0,CMDSAxe1, marker = 'o', s =  1)\n",
    "for label, x, y, OPEP,UE in zip(ListCountryExtract.StateAbb, CMDSAxe0,CMDSAxe1,ListCountryExtract.OPEP,ListCountryExtract.UE):\n",
    "    ax.annotate(label, xy = (x+0.01, y))\n",
    "    if OPEP > 0:\n",
    "        ax.text(x+0.01,y,label, bbox={'facecolor':'red'})\n",
    "    if UE > 0:\n",
    "        ax.text(x+0.01,y,label, bbox={'facecolor':'blue'})        \n",
    "\n"
   ]
  },
  {
   "cell_type": "markdown",
   "metadata": {
    "collapsed": false
   },
   "source": [
    "#Metric MDS"
   ]
  },
  {
   "cell_type": "code",
   "execution_count": null,
   "metadata": {
    "collapsed": false
   },
   "outputs": [],
   "source": [
    "mds = manifold.MDS(n_components=2,dissimilarity=\"precomputed\",n_init=10,max_iter=10000)\n",
    "mdsVoting = mds.fit(DissimilExtract).embedding_\n",
    "mds.fit(DissimilExtract).stress_  \n",
    "# on ne gagne pas beaucoup par rapport à n = 20 par exemple"
   ]
  },
  {
   "cell_type": "code",
   "execution_count": null,
   "metadata": {
    "collapsed": false,
    "scrolled": true
   },
   "outputs": [],
   "source": [
    "%matplotlib inline\n",
    "fig = plt.figure(figsize = (15,15))\n",
    "ax = fig.add_subplot(111)\n",
    "MDSAxe0 =mdsVoting[:,0]\n",
    "MDSAxe1 =mdsVoting[:,1]\n",
    "ax.scatter(MDSAxe0,MDSAxe1, marker = 'o', s =  1)\n",
    "for label, x, y, OPEP,UE in zip(ListCountryExtract.StateAbb, MDSAxe0,MDSAxe1,ListCountryExtract.OPEP,ListCountryExtract.UE):\n",
    "    ax.annotate(label, xy = (x+0.01, y))\n",
    "    if OPEP > 0:\n",
    "        ax.text(x+0.01,y,label, bbox={'facecolor':'red'})\n",
    "    if UE > 0:\n",
    "        ax.text(x+0.01,y,label, bbox={'facecolor':'blue'})        \n",
    "    \n",
    "        \n",
    "        \n"
   ]
  }
 ],
 "metadata": {
  "kernelspec": {
   "display_name": "Python 2",
   "language": "python",
   "name": "python2"
  },
  "language_info": {
   "codemirror_mode": {
    "name": "ipython",
    "version": 2
   },
   "file_extension": ".py",
   "mimetype": "text/x-python",
   "name": "python",
   "nbconvert_exporter": "python",
   "pygments_lexer": "ipython2",
   "version": "2.7.9"
  }
 },
 "nbformat": 4,
 "nbformat_minor": 0
}
