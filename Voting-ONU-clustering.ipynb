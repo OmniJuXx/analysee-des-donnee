{
 "cells": [
  {
   "cell_type": "code",
   "execution_count": null,
   "metadata": {
    "collapsed": false
   },
   "outputs": [],
   "source": [
    "%matplotlib inline\n",
    "import matplotlib.pyplot as plt\n",
    "from mpl_toolkits.mplot3d import Axes3D\n",
    "from pylab import *\n",
    "import pandas as pd\n",
    "from sklearn import manifold\n",
    "import matplotlib.colors as colors"
   ]
  },
  {
   "cell_type": "markdown",
   "metadata": {},
   "source": [
    "# Importation des données"
   ]
  },
  {
   "cell_type": "markdown",
   "metadata": {},
   "source": [
    "Les données étudiées dans ce TP provienne de la plateforme de données [Dataverse](https://dataverse.harvard.edu/dataset.xhtml?persistentId=hdl:1902.1/12379), elles contiennent des indices de similarité entre les votes des pays à l'ONU. \n",
    "\n",
    "- Télécharger les données de vote à l'ONU enregistrées dans le fichier [AffinitesVotesONU.txt](http://www.lsta.upmc.fr/ADDA/DataBertrand/AffinitesVotesONU.txt) (80 Mb) ainsi que le fichier [StateList.csv](http://www.lsta.upmc.fr/ADDA/DataBertrand/StateList.csv).\n",
    "- Importer les données dans Python à l'aide la libraire Pandas."
   ]
  },
  {
   "cell_type": "markdown",
   "metadata": {},
   "source": [
    "Le fichier AffinitesVotesONU.txt est organisé comme indiqué ci-dessous :\n",
    "- Une ligne renseigne la similarité des votes pour deux pays pendant une année.\n",
    "- Les états sont codés par les champs \"statea\" et \"stateb\". \n",
    "- Le champ  \"year\" donne l'année considérée pour la comparaison des votes.\n",
    "- Plusieurs indices de comparaison des votes sont fournis, dans la suite on s'intéresse à l'indice de similarité sur 3 niveaux  de votes (oui / non / abstension) :  \"agree3un\".\n",
    "\n",
    "Afficher les premières lignes du dataframe VotingFull."
   ]
  },
  {
   "cell_type": "markdown",
   "metadata": {},
   "source": [
    "Le fichier StateList.csv est organisé comme indiqué ci-dessous :\n",
    "- Une ligne correspond à un pays.\n",
    "- Le champ \"StateAbb\" nous donne les abréviations (utile pour les représentations graphiques)\n",
    "- Le champ \"state\" est le même code que celui utilisé dans VotingFull\n",
    "- Le champ \"CodeTP\" est simplement le numéro de ligne\n",
    "- Les champs \"OPEP\" et \"UE\" renseignent l'entrée dans l'OPEP ou dans l'UE (0 sinon).\n",
    "Afficher les premières lignes du dataframe StateList."
   ]
  },
  {
   "cell_type": "code",
   "execution_count": null,
   "metadata": {
    "collapsed": false
   },
   "outputs": [],
   "source": [
    "path_affinity= \"/Users/bmichel/Dropbox/Enseignements/ADD-M2Stat/Tps-Notebooks/Datasets/Voting-ONU/AffinitesVotesONU.txt\"\n",
    "VotingFull = pd.read_csv(path_affinity,delim_whitespace=True,header=0)\n",
    "path_affinity= \"/Users/bmichel/Dropbox/Enseignements/ADD-M2Stat/Tps-Notebooks/Datasets/Voting-ONU/StateList.csv\"\n",
    "ListCountry = pd.read_csv(path_affinity,header=0)"
   ]
  },
  {
   "cell_type": "markdown",
   "metadata": {},
   "source": [
    "Affichage des premières lignes de VotingFull et ListCountry"
   ]
  },
  {
   "cell_type": "code",
   "execution_count": null,
   "metadata": {
    "collapsed": false
   },
   "outputs": [],
   "source": [
    "VotingFull.head()"
   ]
  },
  {
   "cell_type": "code",
   "execution_count": null,
   "metadata": {
    "collapsed": false
   },
   "outputs": [],
   "source": [
    "ListCountry.head()"
   ]
  },
  {
   "cell_type": "markdown",
   "metadata": {},
   "source": [
    "# Extraction des similarités de vote pour une periode donnée"
   ]
  },
  {
   "cell_type": "code",
   "execution_count": null,
   "metadata": {
    "collapsed": false
   },
   "outputs": [],
   "source": [
    "# periode étudiée :\n",
    "annee_debut = 2000\n",
    "annee_fin  = 2015  \n",
    "\n",
    "# indice max des indices \"state\" (.values : syntaxe numpy )\n",
    "maxstate = max(ListCountry.state.values)\n",
    "\n",
    "# indice max dans CodeTP\n",
    "maxCodeTP = max(ListCountry.CodeTP.values)"
   ]
  },
  {
   "cell_type": "markdown",
   "metadata": {},
   "source": [
    "Le vecteur Translate ci-dessous permet de passer du codage \"state\" au codage \"CodeTP\"."
   ]
  },
  {
   "cell_type": "code",
   "execution_count": null,
   "metadata": {
    "collapsed": true
   },
   "outputs": [],
   "source": [
    "Translate =   - np.ones(maxstate+1,dtype = int) #\n",
    "for numline in range(maxCodeTP):\n",
    "    Translate[ListCountry.state[numline]] =  ListCountry.CodeTP[numline]"
   ]
  },
  {
   "cell_type": "markdown",
   "metadata": {},
   "source": [
    "Par exemple le pays de code statea = 40 a pour indice indice 3 (on part de 0) pour \"CodeTP\" :"
   ]
  },
  {
   "cell_type": "code",
   "execution_count": null,
   "metadata": {
    "collapsed": false
   },
   "outputs": [],
   "source": [
    "Translate[40]"
   ]
  },
  {
   "cell_type": "markdown",
   "metadata": {},
   "source": [
    "### Création de la matrice de dissimilarité $Dissimil$ "
   ]
  },
  {
   "cell_type": "markdown",
   "metadata": {},
   "source": [
    "Les numéros de ligne et de colonnes de $Dissimil$ correspondent au code \"CodeTP\". On remplit la matrice de similarité en parcourant les lignes de VotingFull, en ne selectionant que l'année \"annee_choice\" (ce code peut prendre quelques secondes).\n",
    "\n",
    "La dissimilarité d'une année t est définie par :  1 - agree3un(t).\n",
    "\n",
    "On cumule les dissimilarités sur la periode étudiée : \n",
    "$$Dissimil (paysA,paysB) = \\sum_{t= debut} ^{fin}  (1- agree3un(t)) $$ "
   ]
  },
  {
   "cell_type": "code",
   "execution_count": null,
   "metadata": {
    "collapsed": false
   },
   "outputs": [],
   "source": [
    "# création de la matrice (de bonne dimension)\n",
    "# que des 0 partout par défaut\n",
    "\n",
    "Dissimil = np.zeros((maxCodeTP+1,maxCodeTP+1)) \n",
    "\n",
    "# boucle sur les lignes de VotingFull (prend quelques secondes ...)\n",
    "for numline in range(VotingFull.shape[0]):\n",
    "    if (VotingFull.year[numline] >= annee_debut)&(VotingFull.year[numline] <= annee_fin): \n",
    "        Dissimil[Translate[VotingFull.statea[numline]],Translate[VotingFull.stateb[numline]]] +=  1-VotingFull.agree3un[numline]\n",
    "        Dissimil[Translate[VotingFull.stateb[numline]],Translate[VotingFull.statea[numline]]] +=  1- VotingFull.agree3un[numline]"
   ]
  },
  {
   "cell_type": "code",
   "execution_count": null,
   "metadata": {
    "collapsed": false
   },
   "outputs": [],
   "source": [
    "Dissimil"
   ]
  },
  {
   "cell_type": "markdown",
   "metadata": {},
   "source": [
    "Attention !  Certaines lignes n'ont pas été remplies. En effet tous les pays ne sont pas renseignés dans la matrice car certains pays n'existent pas ou plus à la date choisie. \n",
    "Par exemple : "
   ]
  },
  {
   "cell_type": "code",
   "execution_count": null,
   "metadata": {
    "collapsed": false
   },
   "outputs": [],
   "source": [
    "Dissimil[50,]"
   ]
  },
  {
   "cell_type": "markdown",
   "metadata": {},
   "source": [
    "On doit retirer ces pays de la matrice de similarité, ce sont les pays dont les lignes ou colonnes ont une somme égale à - maxCodeTP (car la matrice est de taille maxCodeTP x maxCodeTP)."
   ]
  },
  {
   "cell_type": "code",
   "execution_count": null,
   "metadata": {
    "collapsed": false
   },
   "outputs": [],
   "source": [
    "I = np.array([ i for i in range(maxCodeTP) if Dissimil.sum(1)[i] != 0])\n",
    "print(I)"
   ]
  },
  {
   "cell_type": "markdown",
   "metadata": {},
   "source": [
    "Extraction de la sous matrice de similarité :"
   ]
  },
  {
   "cell_type": "code",
   "execution_count": null,
   "metadata": {
    "collapsed": false
   },
   "outputs": [],
   "source": [
    "DissimilExtract   = Dissimil[I,:][:,I]  #  rq : Dissimil[I,I] ne fonctionne pas"
   ]
  },
  {
   "cell_type": "markdown",
   "metadata": {},
   "source": [
    "Il faut aussi remplacer les -1  par des 0 sur la diagonale :"
   ]
  },
  {
   "cell_type": "code",
   "execution_count": null,
   "metadata": {
    "collapsed": false
   },
   "outputs": [],
   "source": [
    "n,p = DissimilExtract.shape"
   ]
  },
  {
   "cell_type": "markdown",
   "metadata": {},
   "source": [
    "Extraction du sous tableau de  ListCountry :"
   ]
  },
  {
   "cell_type": "code",
   "execution_count": null,
   "metadata": {
    "collapsed": false
   },
   "outputs": [],
   "source": [
    "ListCountryExtract = ListCountry.iloc[I]\n",
    "print(DissimilExtract[:,0])"
   ]
  },
  {
   "cell_type": "markdown",
   "metadata": {},
   "source": [
    "# Classical MDS"
   ]
  },
  {
   "cell_type": "markdown",
   "metadata": {},
   "source": [
    "**Exercice** : Ecrire une fonction Python pour l'algorithme CMDS :\n",
    "- en entrée une matrice de dissimilarité et une dimension p\n",
    "- en sortie : une configuration du nuage dans $\\mathbb R^p$.\n",
    "Ecrire cette fonction dans un fichier nommé ClassicalMDS.py, que vous pourrez utiliser dans le notebook en l'important comme suit (consultez par exemple ce [lien](https://fr.wikibooks.org/wiki/Apprendre_à_programmer_avec_Python/Fonctions_originales)) :"
   ]
  },
  {
   "cell_type": "code",
   "execution_count": null,
   "metadata": {
    "collapsed": false
   },
   "outputs": [],
   "source": [
    "from ClassicalMDS import *"
   ]
  },
  {
   "cell_type": "code",
   "execution_count": null,
   "metadata": {
    "collapsed": false
   },
   "outputs": [],
   "source": [
    "configCMDS = ClassicalMDS(Dissimil,3)\n",
    "print(configCMDS)"
   ]
  },
  {
   "cell_type": "code",
   "execution_count": null,
   "metadata": {
    "collapsed": false
   },
   "outputs": [],
   "source": [
    "plt.figure(figsize = (15,15))\n",
    "CMDSAxe0 =configCMDS[:,0]\n",
    "CMDSAxe1 =configCMDS[:,1]\n",
    "plt.scatter(CMDSAxe0,CMDSAxe1, marker = 'o', s =  1)\n",
    "for label, x, y, OPEP,UE in zip(ListCountryExtract.StateAbb, CMDSAxe0,CMDSAxe1,ListCountryExtract.OPEP,ListCountryExtract.UE):\n",
    "    plt.annotate(label, xy = (x+0.01, y))\n",
    "    if OPEP > 0:\n",
    "        plt.text(x+0.01,y,label, bbox={'facecolor':'red'})\n",
    "    if UE > 0:\n",
    "        plt.text(x+0.01,y,label, bbox={'facecolor':'blue'})        \n",
    "\n"
   ]
  },
  {
   "cell_type": "markdown",
   "metadata": {},
   "source": [
    "# Clustering hierarchique en utilisant la matrice de dissimilarité"
   ]
  },
  {
   "cell_type": "markdown",
   "metadata": {},
   "source": [
    "Nous allons effectuer une classification hierarchique sur les données, en utilisant la dissimilarité construite plus haut. Nous allons d'abord utiliser la librairie Sklearn et ensuite la librairie Scipy."
   ]
  },
  {
   "cell_type": "markdown",
   "metadata": {},
   "source": [
    "## Avec la fonction AgglomerativeClustering de Sklearn"
   ]
  },
  {
   "cell_type": "markdown",
   "metadata": {},
   "source": [
    "Nous utilisons tout d'abord la fonction AgglomerativeClustering du module cluster de sklearn :\n",
    "http://scikit-learn.org/stable/modules/generated/sklearn.cluster.AgglomerativeClustering.html . \n",
    "\n",
    "On indique à la fonction que la matrice d'affinité est déjà calculée (affinity='precomputed') car nous disposons ici de la matrice de dissimilarité calculée précédemment. La mesure d'agrégation utilisée ici est la moyenne des toutes les paires de points (linkage=\"average\"). On impose ici 15 groupes (n_clusters=15). Faites varier le nombres de groupes et observez la distributin des clusters obtenus."
   ]
  },
  {
   "cell_type": "code",
   "execution_count": null,
   "metadata": {
    "collapsed": false
   },
   "outputs": [],
   "source": [
    "from sklearn.cluster import AgglomerativeClustering\n",
    "n_clusters = 15 # nombre de clusters demandés\n",
    "clustering_voting = AgglomerativeClustering(linkage=\"average\", n_clusters=n_clusters,affinity='precomputed')\n",
    "clustering_voting.fit(DissimilExtract)"
   ]
  },
  {
   "cell_type": "markdown",
   "metadata": {},
   "source": [
    "Affichage du clustering obtenu :"
   ]
  },
  {
   "cell_type": "code",
   "execution_count": null,
   "metadata": {
    "collapsed": false
   },
   "outputs": [],
   "source": [
    "pd.set_option('display.max_rows', 200) # reglage du nombre maximal de lignes affichée pour les objets pandas.\n",
    "for i in range(0,n_clusters):\n",
    "    print(\"Classe \" + str(i))\n",
    "    print(ListCountryExtract.StateAbb[clustering_voting.labels_==i])\n",
    "    print(\"---------------------\")"
   ]
  },
  {
   "cell_type": "markdown",
   "metadata": {},
   "source": [
    "Réprésentation du clustering obtenu sur la configuration CMDS :"
   ]
  },
  {
   "cell_type": "code",
   "execution_count": null,
   "metadata": {
    "collapsed": false
   },
   "outputs": [],
   "source": [
    "plt.figure(figsize=(10, 10))\n",
    "for c, i, clust in zip(colors.cnames, range(n_clusters),range(n_clusters)):\n",
    "    plt.scatter(CMDSAxe0[clustering_voting.labels_==i],CMDSAxe1[clustering_voting.labels_==i], c=c, label=clust)\n",
    "plt.legend()"
   ]
  },
  {
   "cell_type": "markdown",
   "metadata": {},
   "source": [
    "On observe un très gros cluster dominant qui capte une grande partie des pays et un seconde cluster de taille plus petite dans lequel on retrouve beaucoup de payes européens. Nous voudrions représenter le dendrogramme de la classification hierarchique pour visualiser la hierarchie, mais celui-ci n'est pas disponible dans les fonctionnalités de sklearn."
   ]
  },
  {
   "cell_type": "markdown",
   "metadata": {},
   "source": [
    "# Clustering hierarchique avec la librairie Scipy\n",
    "\n",
    "\n",
    "Le module cluster de la librairie Scipy contient de nombreuses fonctions permettant de mettre en oeuvre les méthodes de classification non supervisée. Nous allons utiliser la fonction hierarchy de ce module, qui offre notamment la possibilité de tracer le dendrogramme, voir \n",
    "http://docs.scipy.org/doc/scipy/reference/cluster.hierarchy.html#module-scipy.cluster.hierarchy.\n",
    "\n",
    "La première étape pour effectuer  une classification hierarchique en utilisant consiste à calculer la matrice de distance. Classiquement cette étape est effectuée par la fonction pdist de scipy :\n",
    "http://docs.scipy.org/doc/scipy-0.14.0/reference/generated/scipy.spatial.distance.pdist.html\n",
    "Cette fonction renvoie une matrice sous forme condensée (en effet la matrice de distance étant symétrique, il n'est pas nécessaire de stocker tous ses coefficients). La seconde étape consiste à appliquer la fonction linkage à la matrice de distance condensée\n",
    "http://docs.scipy.org/doc/scipy-0.16.0/reference/generated/scipy.cluster.hierarchy.linkage.html\n",
    "\n",
    "Dans le cas présent, nous avons utilisons la matrice de dissimilarité calculée auparavant, il s'agit de la matrice de dissimilarité calculée plus haut. Pour pouvoir lui appliquer la fonction linkage, il nous faut préalablement convertir la matrice de dissimilarité sous une \"forme condensée\" :"
   ]
  },
  {
   "cell_type": "code",
   "execution_count": null,
   "metadata": {
    "collapsed": false
   },
   "outputs": [],
   "source": [
    "import scipy.spatial.distance as ssd # module scipy pour manipuler des distances \n",
    "distArray = ssd.squareform(DissimilExtract)"
   ]
  },
  {
   "cell_type": "markdown",
   "metadata": {},
   "source": [
    "Nous pouvons maintenant utliser la fonction linkage du module clus.hierarchy"
   ]
  },
  {
   "cell_type": "markdown",
   "metadata": {},
   "source": [
    "### Average method\n",
    "\n",
    "Il s'agit ici d'effectuer une classification hierarchique ascendante en utilisant comme mesure d'agrégation la moyenne de toutes les paires de distances (method = 'average')"
   ]
  },
  {
   "cell_type": "code",
   "execution_count": null,
   "metadata": {
    "collapsed": true
   },
   "outputs": [],
   "source": [
    "import scipy.cluster as clus\n",
    "linkONU_av = clus.hierarchy.linkage(distArray, method='average' )"
   ]
  },
  {
   "cell_type": "markdown",
   "metadata": {},
   "source": [
    "Nous allons maintenant pouvoir représenter le dendogramme de cette classification hierarchique"
   ]
  },
  {
   "cell_type": "code",
   "execution_count": null,
   "metadata": {
    "collapsed": false,
    "scrolled": true
   },
   "outputs": [],
   "source": [
    "from scipy.cluster.hierarchy import dendrogram\n",
    "plt.figure(figsize=(15, 30))\n",
    "plt.title('Dendogramme de la classification hierarchique, methode average')\n",
    "plt.xlabel('Pays')\n",
    "plt.ylabel('')\n",
    "P = dendrogram(linkONU_av,\n",
    "    labels = ListCountryExtract.StateNme.values,\n",
    "    orientation = \"left\",\n",
    "    leaf_font_size=8.) "
   ]
  },
  {
   "cell_type": "markdown",
   "metadata": {},
   "source": [
    "Sous pousser très en avant l'analyse du dendrogramme, on retrouve des groupes qui font sens d'un point de vue géopolitique  (notamment le groupe Européen). La structure du dendogramme explique aussi pourquoi beaucoup de clusters ne contiennent qu' un pays :  on observe un effet de chaînage quand on considère les sous-arbres."
   ]
  },
  {
   "cell_type": "markdown",
   "metadata": {
    "collapsed": false
   },
   "source": [
    "### Single method (plus courte distance) "
   ]
  },
  {
   "cell_type": "code",
   "execution_count": null,
   "metadata": {
    "collapsed": false
   },
   "outputs": [],
   "source": [
    "linkONU_single = clus.hierarchy.linkage(distArray, method='single' )\n",
    "plt.figure(figsize=(15, 30))\n",
    "plt.title('Dendogramme de la classification hierarchique, methode single')\n",
    "plt.xlabel('Pays')\n",
    "plt.ylabel('')\n",
    "P = dendrogram(linkONU_single,\n",
    "    labels = ListCountryExtract.StateNme.values,\n",
    "    orientation = \"left\",\n",
    "    leaf_font_size=8.) "
   ]
  },
  {
   "cell_type": "markdown",
   "metadata": {},
   "source": [
    "Remarque : Avec scipy, il est possible aussi d'extraire les groupes (en seuillant le dendrogramme à un niveau fixé) mais cela demande un peu plus de travail qu'avec Sklearn dans ce cas précis où l'on utilise une matrice de dissimilarité ad-hoc. Dans le cas plus classique où l'on observe des points dans un espace euclidien on peut facilement utiliser  la fonction fcluster de scipy."
   ]
  },
  {
   "cell_type": "markdown",
   "metadata": {
    "collapsed": true
   },
   "source": [
    "##  Modèle de mélange Gaussiens pour le clustering\n",
    "\n",
    "Nous allons illustrer une méthode de classification avec des modèles Gaussiens. Pour cela nous allons considérer la configuration en 2 dimension proposée par CMDS auparavent. Le module  mixture.GMM de  sklearn permet d'ajuster un modèle de mélange gaussien sur un nuage de points dans $\\mathbb R ^2$ dans le but d'en déduire une classification non supervisée des données :\n",
    "http://scikit-learn.org/stable/modules/generated/sklearn.mixture.GMM.html\n"
   ]
  },
  {
   "cell_type": "markdown",
   "metadata": {
    "collapsed": true
   },
   "source": [
    "Configuration CMDS de dimension 2 en utilisant le script ClassicalMDS :"
   ]
  },
  {
   "cell_type": "code",
   "execution_count": null,
   "metadata": {
    "collapsed": true
   },
   "outputs": [],
   "source": [
    "from ClassicalMDS import *\n",
    "configCMDS = ClassicalMDS(Dissimil,2)"
   ]
  },
  {
   "cell_type": "markdown",
   "metadata": {},
   "source": [
    "On ajuste sur les données des modèles de mélange gaussiens de 2 à 12 composantes avec des matrices de var-cov de forme non contrainte. On calcule pour chacun d'eux le critère BIC. Le \"meilleur\" modèle est possède  6 composantes dans le cas présent."
   ]
  },
  {
   "cell_type": "code",
   "execution_count": null,
   "metadata": {
    "collapsed": false
   },
   "outputs": [],
   "source": [
    "from sklearn import mixture\n",
    "bic = []\n",
    "for k in range(2,12):\n",
    "    gmm = mixture.GMM(n_components=k, covariance_type='full')\n",
    "    gmm.fit(configCMDS)\n",
    "    bic.append(gmm.bic(configCMDS))\n",
    "plt.scatter(range(2,12),bic)"
   ]
  },
  {
   "cell_type": "code",
   "execution_count": null,
   "metadata": {
    "collapsed": false
   },
   "outputs": [],
   "source": [
    "gmm = mixture.GMM(n_components=6, covariance_type='full')\n",
    "gmm.fit(configCMDS)"
   ]
  },
  {
   "cell_type": "markdown",
   "metadata": {},
   "source": [
    "Calcul de la logvraisemblance sur un maillage fin :"
   ]
  },
  {
   "cell_type": "code",
   "execution_count": null,
   "metadata": {
    "collapsed": false
   },
   "outputs": [],
   "source": [
    "x = np.linspace(-15.0, 10.0)\n",
    "y = np.linspace(-4.0, 6.0)\n",
    "X, Y = np.meshgrid(x, y)\n",
    "XX = np.array([X.ravel(), Y.ravel()]).T\n",
    "Z = -gmm.score_samples(XX)[0] # la liste des logvrais aux points de la grille XX\n",
    "Z = Z.reshape(X.shape) # on reforme un tableau de meme dimension que celles de X"
   ]
  },
  {
   "cell_type": "markdown",
   "metadata": {},
   "source": [
    "Représentation des iso-logvraisemblance sur ce maillage :"
   ]
  },
  {
   "cell_type": "code",
   "execution_count": null,
   "metadata": {
    "collapsed": false
   },
   "outputs": [],
   "source": [
    "from matplotlib.colors import LogNorm\n",
    "plt.figure(figsize = (10,10))\n",
    "CS = plt.contour(X, Y, Z, norm=LogNorm(vmin=0.1, vmax=1000.0),levels=np.logspace(0, 10, 70))\n",
    "CMDSAxe0 =configCMDS[:,0]\n",
    "CMDSAxe1 =configCMDS[:,1]\n",
    "plt.scatter(CMDSAxe0,CMDSAxe1, marker = 'o', s =  1)"
   ]
  },
  {
   "cell_type": "markdown",
   "metadata": {},
   "source": [
    " Affection des points de l'échantillon à  un groupe"
   ]
  },
  {
   "cell_type": "code",
   "execution_count": null,
   "metadata": {
    "collapsed": false
   },
   "outputs": [],
   "source": [
    "Groupe = gmm.predict(configCMDS)\n",
    "print(Groupe)"
   ]
  },
  {
   "cell_type": "code",
   "execution_count": null,
   "metadata": {
    "collapsed": false
   },
   "outputs": [],
   "source": [
    "plt.figure(figsize = (10,10))\n",
    "for c, i, clust in zip(colors.cnames, range(6),range(6)):\n",
    "    plt.scatter(CMDSAxe0[Groupe==i],CMDSAxe1[Groupe==i], c=c, label=clust)\n",
    "plt.legend()"
   ]
  }
 ],
 "metadata": {
  "kernelspec": {
   "display_name": "Python 2",
   "language": "python",
   "name": "python2"
  },
  "language_info": {
   "codemirror_mode": {
    "name": "ipython",
    "version": 2
   },
   "file_extension": ".py",
   "mimetype": "text/x-python",
   "name": "python",
   "nbconvert_exporter": "python",
   "pygments_lexer": "ipython2",
   "version": "2.7.9"
  }
 },
 "nbformat": 4,
 "nbformat_minor": 0
}
