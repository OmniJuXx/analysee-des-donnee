{
 "cells": [
  {
   "cell_type": "markdown",
   "metadata": {},
   "source": [
    "# Handwritten digits"
   ]
  },
  {
   "cell_type": "markdown",
   "metadata": {},
   "source": [
    "Notebook inspiré de la page http://scikit-learn.org/stable/auto_examples/manifold/plot_lle_digits.html\n",
    "Les données sont constituées d'images 16x16 pixels de chiffres écrits à la main.\n"
   ]
  },
  {
   "cell_type": "code",
   "execution_count": null,
   "metadata": {
    "collapsed": true
   },
   "outputs": [],
   "source": [
    "import numpy as np\n",
    "import matplotlib.pyplot as plt\n",
    "import matplotlib.colors as colors\n",
    "from matplotlib import offsetbox\n",
    "from sklearn.decomposition import PCA, KernelPCA\n",
    "from sklearn import preprocessing\n",
    "from sklearn import manifold\n",
    "import pandas as pds\n",
    "%matplotlib inline"
   ]
  },
  {
   "cell_type": "markdown",
   "metadata": {},
   "source": [
    "Récupérer les données à cette adresse https://archive.ics.uci.edu/ml/datasets/Semeion+Handwritten+Digit\n",
    "Importer les données avec pandas."
   ]
  },
  {
   "cell_type": "code",
   "execution_count": null,
   "metadata": {
    "collapsed": false
   },
   "outputs": [],
   "source": [
    "mydata= pds.read_csv('/Users/bmichel/Dropbox/Enseignements/ADD-M2Stat/Tps-Notebooks/Datasets/Digits256/semeion.data',delim_whitespace=True,header=None).values"
   ]
  },
  {
   "cell_type": "code",
   "execution_count": null,
   "metadata": {
    "collapsed": false
   },
   "outputs": [],
   "source": [
    "X = mydata[:,range(256)]\n",
    "y = mydata[:,range(256,266)]\n",
    "# colone i = 1   =>  y = i "
   ]
  },
  {
   "cell_type": "code",
   "execution_count": null,
   "metadata": {
    "collapsed": false
   },
   "outputs": [],
   "source": [
    "yy = np.dot(y,range(0,10))\n",
    "yy"
   ]
  },
  {
   "cell_type": "code",
   "execution_count": null,
   "metadata": {
    "collapsed": false
   },
   "outputs": [],
   "source": [
    "for i in range(1,37):\n",
    "    ax = plt.subplot(6,6,i)\n",
    "    ax.imshow(X[i,:].reshape(16,16),cmap=plt.cm.gray_r) "
   ]
  },
  {
   "cell_type": "code",
   "execution_count": null,
   "metadata": {
    "collapsed": false
   },
   "outputs": [],
   "source": [
    "digits_data_nor = preprocessing.scale(X)\n",
    "range(5)"
   ]
  },
  {
   "cell_type": "markdown",
   "metadata": {},
   "source": [
    "##ACP classique"
   ]
  },
  {
   "cell_type": "code",
   "execution_count": null,
   "metadata": {
    "collapsed": false
   },
   "outputs": [],
   "source": [
    "pca = PCA(n_components=3)\n",
    "# calcul les composantes principales \n",
    "pca.fit(X)\n",
    "# ajuste ces composantes sur les données \n",
    "pca_digits3 = pca.transform(X)\n",
    "ACP_Comp0 = pca_digits3[:,0]\n",
    "ACP_Comp1 = pca_digits3[:,1]\n",
    "ACP_Comp2 = pca_digits3[:,2]\n",
    "\n",
    "fig = plt.figure(figsize = (18,18))\n",
    "ax = fig.add_subplot(111)\n",
    "\n",
    "for c, i, target_name in zip(colors.cnames, range(5), range(5)):\n",
    "    plt.scatter(ACP_Comp0[yy == i], ACP_Comp1[yy == i], c=c, label=target_name)\n",
    "plt.legend()"
   ]
  },
  {
   "cell_type": "markdown",
   "metadata": {},
   "source": [
    "##ISOMAP"
   ]
  },
  {
   "cell_type": "code",
   "execution_count": null,
   "metadata": {
    "collapsed": false
   },
   "outputs": [],
   "source": [
    "iso_digits3 = manifold.Isomap(5, n_components=2).fit_transform(X)\n",
    "iso_Comp0 = iso_digits3[:,0]\n",
    "iso_Comp1 = iso_digits3[:,1]"
   ]
  },
  {
   "cell_type": "code",
   "execution_count": null,
   "metadata": {
    "collapsed": false,
    "scrolled": false
   },
   "outputs": [],
   "source": [
    "fig = plt.figure(figsize = (14,14))\n",
    "ax = fig.add_subplot(111)\n",
    "for c, i, target_name in zip(colors.cnames, range(5), range(5)):  \n",
    "    plt.scatter(iso_Comp0[yy == i], iso_Comp1[yy == i], c=c, label=target_name)\n",
    "plt.legend()"
   ]
  },
  {
   "cell_type": "markdown",
   "metadata": {},
   "source": [
    "##Kernel PCA"
   ]
  },
  {
   "cell_type": "code",
   "execution_count": null,
   "metadata": {
    "collapsed": false
   },
   "outputs": [],
   "source": [
    "kpca = KernelPCA(kernel=\"rbf\")\n",
    "X_kpca = kpca.fit_transform(X)\n",
    "Xkpca0 = X_kpca[:,0]\n",
    "Xkpca1 = X_kpca[:,1]"
   ]
  },
  {
   "cell_type": "code",
   "execution_count": null,
   "metadata": {
    "collapsed": false
   },
   "outputs": [],
   "source": [
    "fig = plt.figure(figsize = (14,14))\n",
    "ax = fig.add_subplot(111)\n",
    "for c, i, target_name in zip(colors.cnames, range(5), range(5)):\n",
    "    plt.scatter(Xkpca0[yy == i], Xkpca1[yy == i], c=c, label=target_name)\n",
    "plt.legend()"
   ]
  },
  {
   "cell_type": "markdown",
   "metadata": {},
   "source": [
    "##Comparaison debruitage via PCA and KernelPCA"
   ]
  },
  {
   "cell_type": "code",
   "execution_count": null,
   "metadata": {
    "collapsed": true
   },
   "outputs": [],
   "source": [
    "nbcompo = 30 # nb de composantes pour l'ACP et K-ACP"
   ]
  },
  {
   "cell_type": "code",
   "execution_count": null,
   "metadata": {
    "collapsed": false
   },
   "outputs": [],
   "source": [
    "pca = PCA(n_components=nbcompo)\n",
    "# calcul les composantes principales \n",
    "pca.fit(X)\n",
    "# ajuste ces composantes sur les données \n",
    "pca_digits = pca.transform(X)\n",
    "# transfo inverse\n",
    "pca_back = pca.inverse_transform(pca_digits)"
   ]
  },
  {
   "cell_type": "code",
   "execution_count": null,
   "metadata": {
    "collapsed": false
   },
   "outputs": [],
   "source": [
    "kpca = KernelPCA(kernel=\"rbf\", fit_inverse_transform=True,n_components=nbcompo) \n",
    "X_kpca = kpca.fit_transform(X)\n",
    "kpca_back = kpca.inverse_transform(X_kpca) # calcul d une pré image"
   ]
  },
  {
   "cell_type": "code",
   "execution_count": null,
   "metadata": {
    "collapsed": false
   },
   "outputs": [],
   "source": [
    "num = 9  # numero de l'observation \n",
    "fig = plt.figure(figsize = (5,15))\n",
    "ax = plt.subplot(3,3,1)\n",
    "ax.imshow(X[num,:].reshape(16,16),cmap=plt.cm.gray_r) \n",
    "ax = plt.subplot(3,3,2)\n",
    "ax.imshow(pca_back[num,:].reshape(16,16),cmap=plt.cm.gray_r) \n",
    "ax = plt.subplot(3,3,3)\n",
    "ax.imshow(kpca_back[num,:].reshape(16,16),cmap=plt.cm.gray_r) "
   ]
  },
  {
   "cell_type": "markdown",
   "metadata": {},
   "source": [
    "Visuellement, les pre images sont plus satisfaisantes dans le sens où elles ressemblent plus à un prototype de chiffre."
   ]
  },
  {
   "cell_type": "code",
   "execution_count": null,
   "metadata": {
    "collapsed": true
   },
   "outputs": [],
   "source": []
  }
 ],
 "metadata": {
  "kernelspec": {
   "display_name": "Python 2",
   "language": "python",
   "name": "python2"
  },
  "language_info": {
   "codemirror_mode": {
    "name": "ipython",
    "version": 2
   },
   "file_extension": ".py",
   "mimetype": "text/x-python",
   "name": "python",
   "nbconvert_exporter": "python",
   "pygments_lexer": "ipython2",
   "version": "2.7.12"
  }
 },
 "nbformat": 4,
 "nbformat_minor": 0
}
