{
 "cells": [
  {
   "cell_type": "markdown",
   "metadata": {},
   "source": [
    "# Premiers pas"
   ]
  },
  {
   "cell_type": "markdown",
   "metadata": {},
   "source": [
    "A chaque etape, vous devez soumettre en appuyant sur \"Run cell\" (flèche) ou en utilisant le raccourci clavier (Shift+Entree)"
   ]
  },
  {
   "cell_type": "code",
   "execution_count": 1,
   "metadata": {
    "collapsed": false
   },
   "outputs": [],
   "source": [
    "from pylab import *"
   ]
  },
  {
   "cell_type": "code",
   "execution_count": 2,
   "metadata": {
    "collapsed": false
   },
   "outputs": [
    {
     "name": "stdout",
     "output_type": "stream",
     "text": [
      "Hello world!\n"
     ]
    }
   ],
   "source": [
    "print \"Hello world!\""
   ]
  },
  {
   "cell_type": "markdown",
   "metadata": {},
   "source": [
    "La fonction print affiche"
   ]
  },
  {
   "cell_type": "code",
   "execution_count": 4,
   "metadata": {
    "collapsed": false
   },
   "outputs": [],
   "source": [
    "x = 5\n",
    "y = 6\n",
    "z = 6.\n"
   ]
  },
  {
   "cell_type": "code",
   "execution_count": 5,
   "metadata": {
    "collapsed": false
   },
   "outputs": [
    {
     "data": {
      "text/plain": [
       "0.8333333333333334"
      ]
     },
     "execution_count": 5,
     "metadata": {},
     "output_type": "execute_result"
    }
   ],
   "source": [
    "x/y \n",
    "x/z"
   ]
  },
  {
   "cell_type": "code",
   "execution_count": 6,
   "metadata": {
    "collapsed": false
   },
   "outputs": [
    {
     "name": "stdout",
     "output_type": "stream",
     "text": [
      "0\n",
      "0.833333333333\n"
     ]
    }
   ],
   "source": [
    "print x/y \n",
    "print x/z"
   ]
  },
  {
   "cell_type": "code",
   "execution_count": 7,
   "metadata": {
    "collapsed": false
   },
   "outputs": [
    {
     "data": {
      "text/plain": [
       "-2.4492935982947064e-16"
      ]
     },
     "execution_count": 7,
     "metadata": {},
     "output_type": "execute_result"
    }
   ],
   "source": [
    "sin(2 *pi)"
   ]
  },
  {
   "cell_type": "code",
   "execution_count": 8,
   "metadata": {
    "collapsed": false
   },
   "outputs": [
    {
     "data": {
      "text/plain": [
       "(1-2.4492935982947064e-16j)"
      ]
     },
     "execution_count": 8,
     "metadata": {},
     "output_type": "execute_result"
    }
   ],
   "source": [
    "exp(2 * 1j * pi)"
   ]
  },
  {
   "cell_type": "markdown",
   "metadata": {},
   "source": [
    "Le premier nombre est très proche de zero, le deuxième est un nombre complexe très proche de 1. A noter que 1j en Python désigne le nombre complexe i tel que i2=−1."
   ]
  },
  {
   "cell_type": "markdown",
   "metadata": {},
   "source": [
    "## Les booléens"
   ]
  },
  {
   "cell_type": "code",
   "execution_count": 23,
   "metadata": {
    "collapsed": false
   },
   "outputs": [
    {
     "name": "stdout",
     "output_type": "stream",
     "text": [
      "False\n",
      "True\n",
      "True\n"
     ]
    }
   ],
   "source": [
    "type(True)\n",
    "print True and False\n",
    "print False or True\n",
    "print True and not False"
   ]
  },
  {
   "cell_type": "markdown",
   "metadata": {},
   "source": [
    "## Chaînes de caractères"
   ]
  },
  {
   "cell_type": "code",
   "execution_count": 24,
   "metadata": {
    "collapsed": false
   },
   "outputs": [
    {
     "name": "stdout",
     "output_type": "stream",
     "text": [
      "Je m'appelle Elève j'ai 23 ans.\n"
     ]
    }
   ],
   "source": [
    "nom = \"Elève\"\n",
    "age = 23\n",
    "phrase = \"Je m'appelle \" + nom + \" j'ai \" + str(age) + \" ans.\"\n",
    "print phrase\n",
    " "
   ]
  },
  {
   "cell_type": "markdown",
   "metadata": {},
   "source": [
    "## Import de fonction, librairies"
   ]
  },
  {
   "cell_type": "markdown",
   "metadata": {},
   "source": [
    "Il y a un très grand nombre de librairires python, et ces librairies contiennent beaucoup de fonctions. Pour pouvoir utiliser une fonction ou une classe dans une librairie, il est nécessaire de l'importer dans chaque script avant de s'en servir, et par convention on le fait en début de script. Il y a plusieurs manières d'importer des Fonctions (ou classes). Dans l'exemple qui suit, nous chargeons et utilisons la fonction randn qui permet de simuler une matrice avec des entrées gaussiennes i.i.d. Nous le faisons de cinq façons différentes, mais la fonction randn importée est à chaque fois exactement la même."
   ]
  },
  {
   "cell_type": "code",
   "execution_count": 26,
   "metadata": {
    "collapsed": false
   },
   "outputs": [],
   "source": [
    "# Methode 1\n",
    "from numpy.random import randn\n",
    "X = randn(3, 3)\n",
    "\n",
    "# Methode 2\n",
    "import numpy\n",
    "X = numpy.random.randn(3, 3)\n",
    "\n",
    "# Methode 3 : on cree un alias de numpy.random que l'on appelle npr\n",
    "import numpy.random as npr\n",
    "X = npr.randn(3, 3)\n",
    "\n",
    "# Methode 4 : on importe toute les fonction de numpy.random\n",
    "from numpy.random import *\n",
    "X = randn(3, 3)\n",
    "\n",
    "# Methode 5 : on importe les fonctions les plus utilisees de numpy, scipy, matplotlib\n",
    "from pylab import *\n",
    "X = randn(3, 3)\n",
    "\n",
    "# Pour importer plusieurs fonction d'une meme librairie\n",
    "from numpy import ones, zeros, empty"
   ]
  },
  {
   "cell_type": "markdown",
   "metadata": {},
   "source": [
    "L'import de pylab utilisé dans la cinquième méthode permet d'importer de façon concise toutes les fonctions les plus courantes des librairies numpy, scipy et matplotlib. C'est cette méthode que nous utiliserons dans les TP."
   ]
  },
  {
   "cell_type": "markdown",
   "metadata": {},
   "source": [
    "Tous vos scripts commenceront donc par"
   ]
  },
  {
   "cell_type": "code",
   "execution_count": 27,
   "metadata": {
    "collapsed": false
   },
   "outputs": [],
   "source": [
    "from pylab import *"
   ]
  },
  {
   "cell_type": "markdown",
   "metadata": {},
   "source": [
    "Il y aura quelques cas exceptionnels, ou nous aurons besoin, dans un même script, de deux fonctions qui portent le même nom mais qui sont différentes. Dans l'exemple suivant, nous utilisons deux fonctions s'appelant toutes les deux poisson. La première fonction est dans numpy.random et permet de simuler des variables de loi de Poisson, alors que la deuxième est dans scipy.stats et permet d'obtenir la valeur de la densité de probabilité de la loi de Poisson."
   ]
  },
  {
   "cell_type": "code",
   "execution_count": 6,
   "metadata": {
    "collapsed": false
   },
   "outputs": [],
   "source": [
    "from pylab import *\n",
    "import numpy.random as npr\n",
    "import scipy.stats as sps\n",
    "\n",
    "mu = 0.5\n",
    "n = 1000\n",
    "m = 2\n",
    "X = npr.poisson(mu, n)  # Simulation de variables de loi de Poisson d'intensite mu\n",
    "x = arange(m+1) # x contient un vecteur numpy d'entiers [0, 1, 2, ... , m]\n",
    "f = sps.poisson.pmf(x, mu) # Densite de probabilite de la loi de Poisson d'intensite mu aux points x"
   ]
  },
  {
   "cell_type": "code",
   "execution_count": 7,
   "metadata": {
    "collapsed": false
   },
   "outputs": [
    {
     "data": {
      "text/plain": [
       "array([0, 1, 0, 1, 1, 1, 1, 0, 1, 0, 0, 0, 0, 0, 0, 1, 0, 1, 0, 0, 0, 0, 2,\n",
       "       2, 0, 0, 2, 1, 0, 0, 0, 0, 1, 3, 0, 0, 0, 0, 1, 0, 0, 0, 0, 0, 1, 0,\n",
       "       0, 0, 0, 0, 0, 0, 0, 0, 1, 0, 0, 0, 0, 0, 1, 0, 1, 0, 0, 1, 1, 1, 1,\n",
       "       1, 1, 0, 1, 0, 0, 1, 0, 1, 1, 0, 0, 0, 0, 1, 0, 0, 0, 0, 0, 0, 1, 0,\n",
       "       0, 0, 0, 1, 0, 0, 1, 0, 0, 1, 1, 1, 0, 0, 3, 0, 0, 0, 0, 1, 1, 0, 1,\n",
       "       0, 0, 0, 2, 1, 1, 0, 0, 1, 0, 0, 0, 1, 0, 0, 0, 0, 0, 1, 0, 1, 0, 0,\n",
       "       1, 0, 2, 1, 1, 2, 0, 1, 1, 1, 0, 0, 1, 0, 0, 2, 1, 0, 0, 0, 0, 0, 0,\n",
       "       0, 1, 0, 0, 0, 1, 0, 1, 0, 1, 0, 0, 0, 1, 0, 1, 0, 0, 0, 1, 1, 0, 0,\n",
       "       1, 0, 0, 0, 0, 0, 0, 0, 1, 0, 0, 0, 0, 0, 0, 2, 2, 0, 1, 0, 1, 0, 1,\n",
       "       0, 0, 0, 1, 1, 1, 1, 1, 0, 2, 1, 0, 0, 0, 2, 0, 1, 0, 0, 0, 0, 0, 1,\n",
       "       1, 0, 0, 1, 0, 0, 1, 0, 0, 1, 0, 2, 0, 0, 0, 0, 0, 0, 0, 1, 0, 1, 1,\n",
       "       0, 1, 2, 1, 0, 0, 0, 2, 0, 1, 0, 0, 1, 0, 1, 0, 1, 1, 1, 0, 0, 1, 0,\n",
       "       2, 0, 0, 1, 0, 0, 1, 0, 0, 1, 0, 1, 1, 0, 1, 0, 0, 1, 1, 0, 1, 0, 0,\n",
       "       1, 0, 0, 0, 2, 0, 1, 0, 2, 0, 0, 1, 1, 0, 0, 0, 0, 0, 0, 0, 1, 0, 0,\n",
       "       1, 0, 0, 0, 1, 0, 0, 0, 0, 1, 0, 0, 1, 0, 1, 1, 0, 0, 0, 0, 0, 2, 1,\n",
       "       0, 0, 0, 2, 0, 1, 0, 0, 0, 0, 0, 0, 0, 0, 0, 0, 0, 0, 0, 1, 1, 0, 0,\n",
       "       3, 2, 0, 1, 1, 2, 2, 0, 0, 0, 0, 0, 0, 1, 0, 1, 0, 0, 1, 0, 0, 3, 0,\n",
       "       1, 1, 0, 1, 2, 1, 0, 0, 1, 0, 2, 0, 1, 0, 0, 0, 0, 0, 0, 0, 2, 1, 0,\n",
       "       2, 0, 2, 0, 1, 0, 0, 0, 0, 1, 0, 0, 2, 0, 1, 1, 1, 2, 1, 1, 0, 1, 0,\n",
       "       1, 1, 1, 0, 1, 0, 0, 0, 1, 0, 0, 0, 0, 0, 2, 0, 0, 1, 0, 1, 0, 0, 1,\n",
       "       1, 0, 0, 0, 0, 2, 0, 2, 1, 0, 0, 0, 0, 0, 0, 0, 2, 0, 1, 0, 0, 0, 1,\n",
       "       1, 1, 0, 1, 0, 0, 0, 1, 3, 0, 0, 0, 2, 1, 0, 0, 0, 1, 1, 1, 0, 0, 0,\n",
       "       0, 1, 0, 1, 1, 1, 0, 1, 1, 2, 1, 0, 1, 1, 1, 1, 0, 0, 1, 0, 1, 1, 0,\n",
       "       0, 0, 1, 0, 0, 0, 0, 0, 0, 2, 0, 0, 0, 1, 0, 0, 2, 1, 1, 2, 0, 0, 0,\n",
       "       1, 0, 2, 1, 0, 0, 1, 0, 0, 0, 0, 0, 2, 0, 2, 1, 3, 0, 0, 0, 1, 0, 0,\n",
       "       0, 0, 0, 0, 1, 0, 0, 1, 0, 0, 1, 1, 1, 0, 1, 0, 0, 2, 3, 0, 1, 0, 1,\n",
       "       0, 0, 0, 0, 1, 0, 0, 0, 0, 0, 0, 1, 0, 0, 0, 0, 0, 0, 0, 2, 1, 2, 0,\n",
       "       1, 0, 0, 0, 2, 0, 1, 0, 0, 0, 0, 0, 0, 0, 0, 0, 0, 0, 1, 0, 0, 1, 2,\n",
       "       1, 0, 1, 0, 0, 0, 0, 0, 0, 1, 0, 1, 0, 1, 1, 0, 0, 0, 0, 0, 0, 0, 0,\n",
       "       0, 0, 0, 0, 0, 0, 0, 2, 0, 0, 1, 1, 0, 3, 0, 1, 1, 0, 2, 2, 1, 1, 0,\n",
       "       1, 0, 0, 0, 0, 0, 0, 0, 1, 0, 1, 1, 0, 1, 1, 1, 4, 1, 1, 1, 1, 1, 0,\n",
       "       1, 0, 1, 0, 0, 0, 1, 1, 0, 1, 1, 0, 1, 3, 0, 0, 1, 1, 2, 0, 1, 0, 1,\n",
       "       0, 0, 0, 1, 2, 1, 1, 0, 0, 2, 1, 4, 0, 0, 1, 0, 0, 0, 1, 1, 2, 1, 0,\n",
       "       0, 0, 1, 0, 0, 0, 0, 0, 1, 2, 1, 1, 1, 1, 0, 0, 1, 1, 0, 0, 0, 1, 0,\n",
       "       1, 1, 0, 1, 0, 1, 0, 1, 0, 0, 0, 1, 0, 0, 0, 1, 1, 0, 2, 0, 1, 0, 0,\n",
       "       0, 1, 1, 2, 0, 0, 0, 1, 0, 0, 0, 1, 2, 0, 0, 2, 1, 0, 1, 1, 1, 2, 2,\n",
       "       1, 1, 1, 1, 1, 0, 0, 0, 2, 1, 0, 0, 1, 2, 0, 0, 1, 0, 2, 0, 1, 1, 2,\n",
       "       0, 0, 0, 2, 1, 0, 2, 1, 2, 0, 0, 0, 0, 0, 1, 1, 0, 0, 1, 0, 0, 1, 0,\n",
       "       1, 0, 0, 0, 0, 1, 0, 0, 0, 0, 0, 0, 0, 1, 0, 0, 2, 1, 0, 0, 0, 0, 1,\n",
       "       0, 1, 0, 0, 0, 1, 1, 0, 1, 0, 1, 2, 0, 0, 0, 0, 0, 1, 0, 0, 0, 0, 0,\n",
       "       1, 0, 2, 1, 1, 1, 0, 0, 3, 0, 0, 0, 1, 2, 0, 0, 0, 0, 1, 0, 0, 1, 0,\n",
       "       0, 0, 0, 0, 0, 0, 1, 0, 0, 1, 3, 0, 0, 0, 2, 0, 1, 0, 0, 0, 1, 0, 0,\n",
       "       1, 2, 1, 0, 0, 0, 0, 0, 1, 0, 0, 0, 1, 0, 1, 0, 0, 0, 1, 1, 0, 0, 1,\n",
       "       0, 0, 1, 2, 0, 0, 0, 1, 0, 2, 0])"
      ]
     },
     "execution_count": 7,
     "metadata": {},
     "output_type": "execute_result"
    }
   ],
   "source": [
    "X"
   ]
  },
  {
   "cell_type": "code",
   "execution_count": 34,
   "metadata": {
    "collapsed": false
   },
   "outputs": [
    {
     "data": {
      "text/plain": [
       "array([0, 1, 2])"
      ]
     },
     "execution_count": 34,
     "metadata": {},
     "output_type": "execute_result"
    }
   ],
   "source": [
    "x"
   ]
  },
  {
   "cell_type": "code",
   "execution_count": 35,
   "metadata": {
    "collapsed": false
   },
   "outputs": [
    {
     "data": {
      "text/plain": [
       "array([ 0.60653066,  0.30326533,  0.07581633])"
      ]
     },
     "execution_count": 35,
     "metadata": {},
     "output_type": "execute_result"
    }
   ],
   "source": [
    "f"
   ]
  },
  {
   "cell_type": "markdown",
   "metadata": {},
   "source": [
    "## Objets de base en Python"
   ]
  },
  {
   "cell_type": "markdown",
   "metadata": {},
   "source": [
    "### List"
   ]
  },
  {
   "cell_type": "code",
   "execution_count": 36,
   "metadata": {
    "collapsed": false
   },
   "outputs": [
    {
     "name": "stdout",
     "output_type": "stream",
     "text": [
      "2 1 0\n",
      "[66.25, 333, -1, 333, 1, 1234.5, 333]\n",
      "[66.25, -1, 333, 1, 1234.5, 333]\n",
      "[333, 1234.5, 1, 333, -1, 66.25]\n",
      "[-1, 1, 66.25, 333, 333, 1234.5]\n"
     ]
    }
   ],
   "source": [
    "a = [66.25, 333, 333, 1, 1234.5]                 # Attention:la numero de position a partir de zero\n",
    "print a.count(333), a.count(66.25), a.count('x') # compte le nombre d'occurences d'un objet\n",
    "# affiche 2 1 0\n",
    "a.insert(2, -1)                                  # insere -1 en deuxieme position\n",
    "a.append(333)                                    # ajouter 333 en derniere position\n",
    "print a\n",
    "# affiche [66.25, 333, -1, 333, 1, 1234.5, 333]\n",
    "a.index(333)                                     # donne la position d'un element\n",
    "# affiche 1\n",
    "a.remove(333)                                    # enleve la premiere occurence d'un objet\n",
    "print a\n",
    "# affiche [66.25, -1, 333, 1, 1234.5, 333]\n",
    "a.reverse()                                      # renverse la liste\n",
    "print a\n",
    "# affiche [333, 1234.5, 1, 333, -1, 66.25]\n",
    "a.sort()                                         # trie la liste\n",
    "print a\n",
    "# affiche [-1, 1, 66.25, 333, 333, 1234.5]"
   ]
  },
  {
   "cell_type": "markdown",
   "metadata": {},
   "source": [
    "Une list est un object qui contient une liste d'objets, sous forme d'un tableau. Elle peut contenir n'importe quel type d'objets. Attention cependant, pour le calcul numérique vectoriel et matriciel, on préférera toujours utiliser des tableaux numpy (voir plus bas), pour faire des calculs plus rapides."
   ]
  },
  {
   "cell_type": "markdown",
   "metadata": {},
   "source": [
    "### Tuple"
   ]
  },
  {
   "cell_type": "code",
   "execution_count": 37,
   "metadata": {
    "collapsed": false
   },
   "outputs": [
    {
     "name": "stdout",
     "output_type": "stream",
     "text": [
      "12345\n",
      "(12345, 54321, 'Bonjour!')\n",
      "((12345, 54321, 'Bonjour!'), (1, 2, 3, 4, 5))\n"
     ]
    },
    {
     "ename": "TypeError",
     "evalue": "'tuple' object does not support item assignment",
     "output_type": "error",
     "traceback": [
      "\u001b[0;31m---------------------------------------------------------------------------\u001b[0m\n\u001b[0;31mTypeError\u001b[0m                                 Traceback (most recent call last)",
      "\u001b[0;32m<ipython-input-37-2d7f584a88ca>\u001b[0m in \u001b[0;36m<module>\u001b[0;34m()\u001b[0m\n\u001b[1;32m      8\u001b[0m \u001b[0;31m# affiche ((12345, 54321, 'hello!'), (1, 2, 3, 4, 5))\u001b[0m\u001b[0;34m\u001b[0m\u001b[0;34m\u001b[0m\u001b[0m\n\u001b[1;32m      9\u001b[0m \u001b[0;31m# On ne peut pas modifier un tuple (on dit qu'il est immutable)\u001b[0m\u001b[0;34m\u001b[0m\u001b[0;34m\u001b[0m\u001b[0m\n\u001b[0;32m---> 10\u001b[0;31m \u001b[0mt\u001b[0m\u001b[0;34m[\u001b[0m\u001b[0;36m0\u001b[0m\u001b[0;34m]\u001b[0m \u001b[0;34m=\u001b[0m \u001b[0;36m88888\u001b[0m\u001b[0;34m\u001b[0m\u001b[0m\n\u001b[0m\u001b[1;32m     11\u001b[0m \u001b[0;31m# affiche: Traceback (most recent call last):\u001b[0m\u001b[0;34m\u001b[0m\u001b[0;34m\u001b[0m\u001b[0m\n\u001b[1;32m     12\u001b[0m \u001b[0;31m#            File \"<stdin>\", line 1, in <module>\u001b[0m\u001b[0;34m\u001b[0m\u001b[0;34m\u001b[0m\u001b[0m\n",
      "\u001b[0;31mTypeError\u001b[0m: 'tuple' object does not support item assignment"
     ]
    }
   ],
   "source": [
    "t = 12345, 54321, \"Bonjour!\"\n",
    "print t[0]\n",
    "# affiche 12345\n",
    "print t\n",
    "# affiche (12345, 54321, 'hello!')\n",
    "u = t, (1, 2, 3, 4, 5) # On peut emboiter des tuples\n",
    "print u\n",
    "# affiche ((12345, 54321, 'hello!'), (1, 2, 3, 4, 5))\n",
    "# On ne peut pas modifier un tuple (on dit qu'il est immutable)\n",
    "t[0] = 88888\n",
    "# affiche: Traceback (most recent call last):\n",
    "#            File \"<stdin>\", line 1, in <module>\n",
    "#            TypeError: 'tuple' object does not support item assignment"
   ]
  },
  {
   "cell_type": "markdown",
   "metadata": {},
   "source": [
    "Le tuple ressemble beaucoup a une list, mais une fois crée on ne peut pas changer ses éléments. Cet objet sert par exemple à représenter la dimension d'une matrice dans la librarie numpy (voir plus bas). On peut notamment se servir d'un tuple comme clé dans un dict"
   ]
  },
  {
   "cell_type": "markdown",
   "metadata": {},
   "source": [
    "### Dict"
   ]
  },
  {
   "cell_type": "code",
   "execution_count": 1,
   "metadata": {
    "collapsed": false
   },
   "outputs": [
    {
     "name": "stdout",
     "output_type": "stream",
     "text": [
      "{'agathe': 4098, 'bertrand': 4139, 'eleve': 4127}\n",
      "4127\n",
      "{'agathe': 4098, 'eleve': 4127}\n",
      "['agathe', 'eleve']\n",
      "[4098, 4127]\n",
      "False\n"
     ]
    }
   ],
   "source": [
    "tel = {'agathe': 4098, 'bertrand': 4139}\n",
    "tel['eleve'] = 4127\n",
    "print tel\n",
    "print tel['eleve']\n",
    "del tel['bertrand']\n",
    "print tel\n",
    "print tel.keys()\n",
    "print tel.values()\n",
    "print \"bertrand\" in tel "
   ]
  },
  {
   "cell_type": "markdown",
   "metadata": {},
   "source": [
    "Le dict est une table de hashage, qui permet d'associer des clés à des valeurs. Les valeurs peuvent être de type quelconque, les clés peuvent être de type int, float, string (chaîne de caractère), tuple, ou pour être plus précis, tout type “hashable”."
   ]
  },
  {
   "cell_type": "markdown",
   "metadata": {},
   "source": [
    "### Set"
   ]
  },
  {
   "cell_type": "code",
   "execution_count": null,
   "metadata": {
    "collapsed": false
   },
   "outputs": [],
   "source": [
    "basket = ['pomme', 'orange', 'pomme', 'poire', 'orange', 'banane']\n",
    "fruit = set(basket)   # Le set qui contient ces fruits (donc sans repetitions)\n",
    "print fruit\n",
    "# affiche set(['orange', poire', 'apple', 'banana'])\n",
    "print 'orange' in fruit                  # est ce que orange est dans fruit ?\n",
    "# affiche True\n",
    "print 'kiwi' in fruit\n",
    "# affiche False\n",
    "a = set('abracadabra')                   # L'ensemble des lettres contenues dans abracadabra\n",
    "b = set('alacazam')\n",
    "print a\n",
    "# affiche set(['a', 'r', 'b', 'c', 'd'])\n",
    "print a - b                              # lettres dans a mais pas dans b\n",
    "# affiche set(['r', 'd', 'b'])\n",
    "print a | b                              # lettres dans a ou dans b\n",
    "# affiche set(['a', 'c', 'r', 'd', 'b', 'm', 'z', 'l'])\n",
    "print a & b                              # dans a et b\n",
    "# affiche set(['a', 'c'])\n",
    "print a ^ b                              # lettres dans a ou b mais pas dans les deux\n",
    "# affiche set(['r', 'd', 'b', 'm', 'z', 'l'])"
   ]
  },
  {
   "cell_type": "markdown",
   "metadata": {},
   "source": [
    "Le set est un ensemble au sens mathématique, il contient un objet une seule fois. Il peut contenir n'importe quel type d'objet. On peut faire des opérations ensemblistes comme décrit au dessus."
   ]
  },
  {
   "cell_type": "markdown",
   "metadata": {},
   "source": [
    "## Quelques remarques"
   ]
  },
  {
   "cell_type": "markdown",
   "metadata": {},
   "source": [
    "Nous listons ici quelques remarques fondamentales sur python, qui vont vous éviter de faire les erreurs les plus habituelles, et vous faire gagner du temps."
   ]
  },
  {
   "cell_type": "markdown",
   "metadata": {},
   "source": [
    "### Les objects en python ne sont pas copiés"
   ]
  },
  {
   "cell_type": "code",
   "execution_count": 3,
   "metadata": {
    "collapsed": false
   },
   "outputs": [
    {
     "name": "stdout",
     "output_type": "stream",
     "text": [
      "[4, 2, 'tintin', 9, 'toto']\n",
      "[4, 2, 10, 9, 'toto']\n"
     ]
    }
   ],
   "source": [
    "x = [4, 2, 10, 9, \"toto\"]\n",
    "y = x  # y est juste une reference au tableau x, pas de copie effectuee ici\n",
    "y[2] = \"tintin\"\n",
    "print x # Cela affiche  [4, 2, \"tintin\", 9, \"toto\"]\n",
    "x = [4, 2, 10, 9, \"toto\"]\n",
    "y = x[:]   # On demande une copie\n",
    "y[2] = \"tintin\"\n",
    "print x # Cela affiche  [4, 2, 10, 9, \"toto\"]"
   ]
  },
  {
   "cell_type": "markdown",
   "metadata": {},
   "source": [
    "### L'indexation des tableaux commence a zéro"
   ]
  },
  {
   "cell_type": "code",
   "execution_count": 4,
   "metadata": {
    "collapsed": false
   },
   "outputs": [
    {
     "name": "stdout",
     "output_type": "stream",
     "text": [
      "3\n"
     ]
    }
   ],
   "source": [
    "x = [4, 3, 12]\n",
    "print x[1] # affiche 3"
   ]
  },
  {
   "cell_type": "markdown",
   "metadata": {},
   "source": [
    "### La division est entière (dans python2.*)"
   ]
  },
  {
   "cell_type": "code",
   "execution_count": 5,
   "metadata": {
    "collapsed": false
   },
   "outputs": [
    {
     "name": "stdout",
     "output_type": "stream",
     "text": [
      "0\n",
      "0.5\n",
      "5.0\n"
     ]
    }
   ],
   "source": [
    "print 1 / 2 # affiche 0\n",
    "print 1. / 2 # affiche 0.5\n",
    "print 1 / .2 # affiche 0.5"
   ]
  },
  {
   "cell_type": "markdown",
   "metadata": {},
   "source": [
    "### L’échange de deux variables a et b se fait en une ligne"
   ]
  },
  {
   "cell_type": "code",
   "execution_count": 6,
   "metadata": {
    "collapsed": false
   },
   "outputs": [
    {
     "ename": "NameError",
     "evalue": "name 'b' is not defined",
     "output_type": "error",
     "traceback": [
      "\u001b[0;31m---------------------------------------------------------------------------\u001b[0m\n\u001b[0;31mNameError\u001b[0m                                 Traceback (most recent call last)",
      "\u001b[0;32m<ipython-input-6-5cfd690b7199>\u001b[0m in \u001b[0;36m<module>\u001b[0;34m()\u001b[0m\n\u001b[0;32m----> 1\u001b[0;31m \u001b[0ma\u001b[0m\u001b[0;34m,\u001b[0m \u001b[0mb\u001b[0m \u001b[0;34m=\u001b[0m \u001b[0mb\u001b[0m\u001b[0;34m,\u001b[0m \u001b[0ma\u001b[0m\u001b[0;34m\u001b[0m\u001b[0m\n\u001b[0m",
      "\u001b[0;31mNameError\u001b[0m: name 'b' is not defined"
     ]
    }
   ],
   "source": [
    "a, b = b, a"
   ]
  },
  {
   "cell_type": "markdown",
   "metadata": {},
   "source": [
    "### L’élevation à la puissance"
   ]
  },
  {
   "cell_type": "code",
   "execution_count": 7,
   "metadata": {
    "collapsed": false
   },
   "outputs": [
    {
     "name": "stdout",
     "output_type": "stream",
     "text": [
      "1000\n",
      "31622.7766017\n"
     ]
    }
   ],
   "source": [
    "print 1000 ** (3 / 2)    # affiche 1000 (3/2 = 1)\n",
    "print 1000 ** (3 / 2.)   # affiche 31622.7766017"
   ]
  },
  {
   "cell_type": "markdown",
   "metadata": {},
   "source": [
    "x ** y élève x a la puissance y. Encore une fois, attention à la division entière"
   ]
  },
  {
   "cell_type": "markdown",
   "metadata": {},
   "source": [
    "### La fonction range"
   ]
  },
  {
   "cell_type": "code",
   "execution_count": null,
   "metadata": {
    "collapsed": false
   },
   "outputs": [],
   "source": [
    "x = range(5)\n",
    "print x # affiche [0, 1, 2, 3, 4]\n",
    "x = range(-10, -100, -30)\n",
    "print x # affiche [-10, -40, -70]"
   ]
  },
  {
   "cell_type": "markdown",
   "metadata": {},
   "source": [
    "La fonction range renvoie une list python contenant une suite arithmétique. On verra plus bas la fonction arange de numpy, qui fait la même chose, mais qui construit un array numpy."
   ]
  },
  {
   "cell_type": "markdown",
   "metadata": {},
   "source": [
    "# Definitions de fonctions"
   ]
  },
  {
   "cell_type": "markdown",
   "metadata": {},
   "source": [
    "## L'indentation est fondamentale en python"
   ]
  },
  {
   "cell_type": "code",
   "execution_count": 9,
   "metadata": {
    "collapsed": false
   },
   "outputs": [
    {
     "name": "stdout",
     "output_type": "stream",
     "text": [
      "0 1 1 2 3 5 8 13 21 34 55 89\n"
     ]
    }
   ],
   "source": [
    "def fib(n):               # dans la fonction fib\n",
    "    a, b = 0, 1\n",
    "    while a < n:\n",
    "        print a,          # dans la boucle while\n",
    "        a, b = b, a+b\n",
    "fib(100)                  # en dehors de la fonction fib"
   ]
  },
  {
   "cell_type": "markdown",
   "metadata": {},
   "source": [
    "Tout le contenu de la fonction fib est indenté d'une tabulation. Tout le contenu de la boucle while est également indenté d'une tabulation (donc deux en tout). La ligne fib(10) est en dehors de la définition de la fonction fib, donc n'est pas indenté. A noter que la virgule dans print a, evite le retour à la ligne lors de l'affichage."
   ]
  },
  {
   "cell_type": "markdown",
   "metadata": {},
   "source": [
    "### Déclaration d'une fonction"
   ]
  },
  {
   "cell_type": "code",
   "execution_count": null,
   "metadata": {
    "collapsed": false
   },
   "outputs": [],
   "source": [
    "def f(tata, toto=2, tintin=4):\n",
    "    print tata, toto, tintin\n",
    "f(3)  # affiche 3 2 4\n",
    "f(3, 5, 12)  # affiche 3 5 12\n",
    "f(3, tintin=5, toto=12)  # affiche 3 12 5\n",
    "f(tintin=5, toto=12, tata=123)  # affiche 123 12 5 "
   ]
  },
  {
   "cell_type": "markdown",
   "metadata": {},
   "source": [
    "La déclaration d'une fonction python se fait avec le mot-clé def. On doit déclarer en premier les paramètres sans valeurs par défaut, puis ceux avec une valeur par défaut. Les paramètres avec une valeur par défaut sont nommés. On peut se servir du nom des paramètres dans l'appel à la fonction"
   ]
  },
  {
   "cell_type": "markdown",
   "metadata": {},
   "source": [
    "### Une fonction est un objet comme un autre"
   ]
  },
  {
   "cell_type": "code",
   "execution_count": 10,
   "metadata": {
    "collapsed": false
   },
   "outputs": [
    {
     "name": "stdout",
     "output_type": "stream",
     "text": [
      "0 1 1 2 3 5 8 13 21 34 55 89\n"
     ]
    }
   ],
   "source": [
    "f = fib  # f est le meme objet que fib\n",
    "f(100)"
   ]
  },
  {
   "cell_type": "markdown",
   "metadata": {},
   "source": [
    "## Structures de contrôle et boucles"
   ]
  },
  {
   "cell_type": "markdown",
   "metadata": {},
   "source": [
    "### Le if elif else"
   ]
  },
  {
   "cell_type": "code",
   "execution_count": 11,
   "metadata": {
    "collapsed": false
   },
   "outputs": [
    {
     "name": "stdout",
     "output_type": "stream",
     "text": [
      "Donne moi un entier: 2\n",
      "Plus\n"
     ]
    }
   ],
   "source": [
    "x = int(raw_input(\"Donne moi un entier: \"))\n",
    "if x < 0:          # est-ce que x est negatif ?\n",
    "    x = 0          # si oui on le remplace par zero\n",
    "    print \"Je remplace ton nombre negatif par zero\"\n",
    "elif x == 0:       # est-ce que x est egal a zero ?\n",
    "    print 'Zero'   # si oui on affiche \"Zero\"\n",
    "elif x == 1:       # est-ce que x est egal a 1 ?\n",
    "    print 'Un'     # si oui on affiche \"Un\"\n",
    "else:              # sinon\n",
    "    print 'Plus'   # on affiche \"Plus\""
   ]
  },
  {
   "cell_type": "markdown",
   "metadata": {},
   "source": [
    "### La boucle for (premier exemple)"
   ]
  },
  {
   "cell_type": "code",
   "execution_count": 12,
   "metadata": {
    "collapsed": false
   },
   "outputs": [
    {
     "ename": "IndentationError",
     "evalue": "expected an indented block (<ipython-input-12-827967d20b74>, line 2)",
     "output_type": "error",
     "traceback": [
      "\u001b[0;36m  File \u001b[0;32m\"<ipython-input-12-827967d20b74>\"\u001b[0;36m, line \u001b[0;32m2\u001b[0m\n\u001b[0;31m    # commandes\u001b[0m\n\u001b[0m               ^\u001b[0m\n\u001b[0;31mIndentationError\u001b[0m\u001b[0;31m:\u001b[0m expected an indented block\n"
     ]
    }
   ],
   "source": [
    "for i in range(11):\n",
    "  # commandes"
   ]
  },
  {
   "cell_type": "markdown",
   "metadata": {},
   "source": [
    "on fait varier un indice i entre 0 et 10 (compris)"
   ]
  },
  {
   "cell_type": "markdown",
   "metadata": {},
   "source": [
    "### La boucle for (deuxième exemple)"
   ]
  },
  {
   "cell_type": "code",
   "execution_count": 13,
   "metadata": {
    "collapsed": false
   },
   "outputs": [
    {
     "ename": "IndentationError",
     "evalue": "expected an indented block (<ipython-input-13-be84f0b13c42>, line 2)",
     "output_type": "error",
     "traceback": [
      "\u001b[0;36m  File \u001b[0;32m\"<ipython-input-13-be84f0b13c42>\"\u001b[0;36m, line \u001b[0;32m2\u001b[0m\n\u001b[0;31m    # commandes\u001b[0m\n\u001b[0m               ^\u001b[0m\n\u001b[0;31mIndentationError\u001b[0m\u001b[0;31m:\u001b[0m expected an indented block\n"
     ]
    }
   ],
   "source": [
    "for i in range(2, 8):\n",
    "  # commandes"
   ]
  },
  {
   "cell_type": "markdown",
   "metadata": {},
   "source": [
    "### On peut itérer sur beaucoup d'objets"
   ]
  },
  {
   "cell_type": "code",
   "execution_count": 14,
   "metadata": {
    "collapsed": false
   },
   "outputs": [
    {
     "name": "stdout",
     "output_type": "stream",
     "text": [
      "10.0\n",
      "[1, 2, 3]\n",
      "Bonjour\n",
      "4\n",
      "B\n",
      "o\n",
      "n\n",
      "j\n",
      "o\n",
      "u\n",
      "r\n"
     ]
    }
   ],
   "source": [
    "X = [10., [1, 2, 3], \"Bonjour\", 4]\n",
    "for x in X:\n",
    "    print x\n",
    "# affiche successivement 10. puis [1, 2, 3] puis Bonjour puis 4\n",
    "\n",
    "s = \"Bonjour\"\n",
    "for c in s:\n",
    "    print c\n",
    "# affiche B o n j o u r"
   ]
  },
  {
   "cell_type": "markdown",
   "metadata": {},
   "source": [
    "### Une fonction pratique: enumerate"
   ]
  },
  {
   "cell_type": "code",
   "execution_count": 15,
   "metadata": {
    "collapsed": false
   },
   "outputs": [
    {
     "name": "stdout",
     "output_type": "stream",
     "text": [
      "0 10.0\n",
      "1 [1, 2, 3]\n",
      "2 Bonjour\n",
      "3 4\n"
     ]
    }
   ],
   "source": [
    "X = [10., [1, 2, 3], \"Bonjour\", 4]\n",
    "for i, x in enumerate(X):\n",
    "  print i, x\n",
    "# affiche :\n",
    "# 0 10.0\n",
    "# 1 [1, 2, 3]\n",
    "# 2 Bonjour\n",
    "# 3 4"
   ]
  },
  {
   "cell_type": "markdown",
   "metadata": {},
   "source": [
    "permet d'itérer sur un object, en incrémentant automatiquement un compteur"
   ]
  },
  {
   "cell_type": "markdown",
   "metadata": {},
   "source": [
    "### Itérer sur un dict"
   ]
  },
  {
   "cell_type": "code",
   "execution_count": 16,
   "metadata": {
    "collapsed": false
   },
   "outputs": [
    {
     "name": "stdout",
     "output_type": "stream",
     "text": [
      "prof2\n",
      "prof1\n",
      "prof5\n",
      "prof1\n",
      "prof2\n",
      "prof5\n",
      "prof1 Michel\n",
      "prof2 Guilloux\n",
      "prof5 ??\n"
     ]
    }
   ],
   "source": [
    "enseignants = { \"prof1\": \"Michel\", \"prof2\": \"Guilloux\"}\n",
    "enseignants[\"prof5\"] = \"??\"\n",
    "for prof in enseignants: # itere sur les cles du dict\n",
    "    print prof\n",
    "for prof in sorted(enseignants): # itere sur les cles triees du dict\n",
    "    print prof\n",
    "for prof, nom in sorted(enseignants.items()): # itere sur les paires (cle, valeur) du dict, triees par cle\n",
    "    print prof, nom\n"
   ]
  },
  {
   "cell_type": "markdown",
   "metadata": {},
   "source": [
    "On rappelle que enseignants.keys() donne les clés du dict et que enseignants.values() donne les valeurs du dict"
   ]
  },
  {
   "cell_type": "markdown",
   "metadata": {},
   "source": [
    "### La boucle while"
   ]
  },
  {
   "cell_type": "code",
   "execution_count": 17,
   "metadata": {
    "collapsed": false
   },
   "outputs": [
    {
     "name": "stdout",
     "output_type": "stream",
     "text": [
      "1\n",
      "3\n",
      "9\n",
      "27\n",
      "81\n"
     ]
    }
   ],
   "source": [
    "i = 1\n",
    "while i < 100:\n",
    "    print i\n",
    "    i *= 3"
   ]
  },
  {
   "cell_type": "markdown",
   "metadata": {},
   "source": [
    "### La liste comprehension"
   ]
  },
  {
   "cell_type": "code",
   "execution_count": 19,
   "metadata": {
    "collapsed": false
   },
   "outputs": [
    {
     "name": "stdout",
     "output_type": "stream",
     "text": [
      "[0, 4, 16, 36, 64, 100, 144, 196, 256, 324]\n"
     ]
    }
   ],
   "source": [
    "print [i ** 2 for i in range(20) if (3 * i) % 2 == 0]"
   ]
  },
  {
   "cell_type": "markdown",
   "metadata": {},
   "source": [
    "C'est une façon concise de créer des list python, en itérant sur des valeurs et avec éventuellement des conditions"
   ]
  },
  {
   "cell_type": "markdown",
   "metadata": {},
   "source": [
    "## Remarque importante : le mot-clé pass"
   ]
  },
  {
   "cell_type": "markdown",
   "metadata": {},
   "source": [
    "La syntaxe de python fait qu'on ne peut pas laisser une fonction ou une structure de contrôle vide. Il faut alors utiliser le mot-clé pass\n",
    "\n"
   ]
  },
  {
   "cell_type": "markdown",
   "metadata": {},
   "source": [
    "### Mot-clé pass"
   ]
  },
  {
   "cell_type": "code",
   "execution_count": 20,
   "metadata": {
    "collapsed": false
   },
   "outputs": [],
   "source": [
    "def f(x):\n",
    "    # Une super fonction que je coderai plus tard\n",
    "    pass\n",
    "for i in range(10):\n",
    "    # Une boucle tres compliquee que je coderai plus tard\n",
    "    pass"
   ]
  },
  {
   "cell_type": "markdown",
   "metadata": {},
   "source": [
    "## Calcul matriciel, la librarie numpy  "
   ]
  },
  {
   "cell_type": "markdown",
   "metadata": {},
   "source": [
    "### Un premier exemple"
   ]
  },
  {
   "cell_type": "markdown",
   "metadata": {},
   "source": [
    "Donnons un premier exemple de calcul numérique avec numpy. Imaginons que l'on cherche une valeur approchée de la probabilité que le sinus d'une v.a. gaussienne standard soit ≤1/2. On peut procéder comme cela :"
   ]
  },
  {
   "cell_type": "code",
   "execution_count": 21,
   "metadata": {
    "collapsed": false
   },
   "outputs": [
    {
     "name": "stdout",
     "output_type": "stream",
     "text": [
      "Proba que sin(X) < 0.5 quand X est de loi N(0, 1)= 0.702\n"
     ]
    }
   ],
   "source": [
    "from pylab import *\n",
    "\n",
    "n = 1000\n",
    "X = randn(n)            # on genere n gaussiennes i.i.d standard\n",
    "p = mean(sin(X) < 0.5)  # on applique la fonction sin a tous les elements de X, puis\n",
    "                        #   on calcule le nombre moyen d'element < 0.5\n",
    "print \"Proba que sin(X) < 0.5 quand X est de loi N(0, 1)=\", p"
   ]
  },
  {
   "cell_type": "markdown",
   "metadata": {},
   "source": [
    "### Quelques remarques de base sur numpy"
   ]
  },
  {
   "cell_type": "markdown",
   "metadata": {},
   "source": [
    "#### Le premier élément d'un tableau numpy est d'indice 0"
   ]
  },
  {
   "cell_type": "code",
   "execution_count": 22,
   "metadata": {
    "collapsed": false
   },
   "outputs": [
    {
     "name": "stdout",
     "output_type": "stream",
     "text": [
      "4\n"
     ]
    }
   ],
   "source": [
    "x = array([4, 1, 2])\n",
    "print x[0] # affiche 4\n",
    " "
   ]
  },
  {
   "cell_type": "markdown",
   "metadata": {},
   "source": [
    "#### python ne fait pas de copie, sauf si demandé explicitement"
   ]
  },
  {
   "cell_type": "code",
   "execution_count": 23,
   "metadata": {
    "collapsed": false
   },
   "outputs": [],
   "source": [
    "y = x         # y est le meme object que x (si on modifie x on modifie y et inversement)\n",
    "y = x.copy()  # y est une copie de x\n",
    "y = x[:]      # si x et y sont de meme taille on remplit le contenu de x dans y\n",
    "y[:] = x      # idem"
   ]
  },
  {
   "cell_type": "markdown",
   "metadata": {},
   "source": [
    "Comme dit avant, python ne fait pas de copie sauf si cela est demandé explicitement. C'est donc aussi le cas pour les tableaux numpy.\n",
    "\n"
   ]
  },
  {
   "cell_type": "markdown",
   "metadata": {},
   "source": [
    "#### arange  "
   ]
  },
  {
   "cell_type": "code",
   "execution_count": 24,
   "metadata": {
    "collapsed": false
   },
   "outputs": [
    {
     "name": "stdout",
     "output_type": "stream",
     "text": [
      "[0 1 2 3 4]\n"
     ]
    }
   ],
   "source": [
    "from pylab import *\n",
    "x = arange(5)\n",
    "print x\n"
   ]
  },
  {
   "cell_type": "markdown",
   "metadata": {},
   "source": [
    "arange donne le tableau numpy d'entiers suivant une suite arithmétique. NB: range() renvoie une list python alors que arange() renvoie un tableau numpy\n",
    "\n"
   ]
  },
  {
   "cell_type": "markdown",
   "metadata": {},
   "source": [
    "#### valeurs dans un tableau numpy"
   ]
  },
  {
   "cell_type": "code",
   "execution_count": 25,
   "metadata": {
    "collapsed": false
   },
   "outputs": [],
   "source": [
    "from pylab import *\n",
    "n = 4\n",
    "x = arange(n) # x contient [0, 1, 2, 3]\n",
    "y = x / 4     # y contient [0, 0, 0, 0], car c'est une division entiere\n",
    "y = x / 4.    # y contient [ 0. 0.25 0.5 0.75]\n",
    "x = array(x, dtype=double)\n",
    "y = x / 4     # y contient [ 0. 0.25 0.5 0.75]"
   ]
  },
  {
   "cell_type": "markdown",
   "metadata": {},
   "source": [
    "Dans un tableau numpy, les valeurs sont typées (par exemple int, float, double, complex, etc.) et sont forément de même type (ce qui n'est pas le cas d'une list python). La plupart des fonctions de numpy ont un argument optionnel appelé dtype. Par exemple zeros((2, 3), dtype=int) donne une matrice de taille 2×3 à valeurs int (entières), alors que zeros((2, 3), dtype=double) donne une matrice à valeurs réelles (double précision). Le type de valeurs dans un tableau numpy peut être très important, comme dans l'exemple ci-dessus.\n",
    "\n",
    "Quelques remarques en vrac\n",
    "\n",
    "Si x est un tableau numpy alors x.shape donne sa dimension\n",
    "ones((3, 4)) donne une matrice de taille 3×4 qui ne contient que des 1 (par defaut de type double)\n",
    "zeros((3, 4)) donne une matrice de taille 3×4 qui ne contient que des 0 (par defaut de type double)\n",
    "eye(4) donne la matrice identité de taille 4×4 (par defaut de type double)\n",
    "ones(X.shape) donne une matrice de même taille que X qui ne contient que des 1\n",
    "X. est la matrice transposee de X\n",
    "Les opérations +, -, *, /, **, +=, *=, /=, -=, etc. sont programmées de façon à être appliquées terme à terme aux tableaux numpy. Par exemple, si A et B sont des matrices de même taille, alors A * B calcule la matrice qui contient les produits terme à terme (produit Hadamard) des matrices A et B. Pour calculer le produit matriciel entre A et B on utilise dot(A, B).\n",
    "La plupart des fonctions mathématiques classiques sont programmées de façon matricielle. Si X est une matrice (ou vecteur) numpy, alors exp(X), sin(X), etc. correspondent aux applications des fonctions exp, sin, etc. à chaque entrée de X. De même, pour x un scalaire, X + x correspond à l'addition de x terme à terme dans X."
   ]
  },
  {
   "cell_type": "markdown",
   "metadata": {},
   "source": [
    "#### booléens et test dans un tableau numpy"
   ]
  },
  {
   "cell_type": "code",
   "execution_count": 26,
   "metadata": {
    "collapsed": false
   },
   "outputs": [
    {
     "data": {
      "text/plain": [
       "array([ True, False, False,  True, False, False], dtype=bool)"
      ]
     },
     "execution_count": 26,
     "metadata": {},
     "output_type": "execute_result"
    }
   ],
   "source": [
    "from pylab import *\n",
    "x = array([4, 2, 1, 5, 1, 10])\n",
    "logical_and(x >= 3, x <= 9, x != 1)  # vaut [ True False False True False False]"
   ]
  },
  {
   "cell_type": "markdown",
   "metadata": {},
   "source": [
    "Pour X matrice et a un scalaire, X <= a est la matrice de même taille que X où les entrées sont remplacées par des booléens True (=vrai) et False (=faux) selon qu'elles soient ou non ≤a. Cela se généralise à des opérations à valeurs booléennes plus compliquées (encadrements, etc.) et permet souvent d’éviter le recours à des boucles et/ou des tests.\n",
    "\n",
    "\n"
   ]
  },
  {
   "cell_type": "markdown",
   "metadata": {},
   "source": [
    "Les fonctions logical_and, logical_or, logical_not, logical_xor sont disponibles pour appliquer les opérations logiques et, ou, non, xor termes à termes entre tableaux numpy\n"
   ]
  },
  {
   "cell_type": "markdown",
   "metadata": {},
   "source": [
    "#### Générateurs de nombres aléatoires"
   ]
  },
  {
   "cell_type": "markdown",
   "metadata": {},
   "source": [
    "\n",
    "Il y a de nombreux générateurs de nombres aléatoires dans numpy.random : randn génère des gaussiennes et rand des lois uniformes sur [0,1]. Toutes les lois classiques sont disponibles, cf : http://docs.scipy.org/doc/numpy/reference/routines.random.html"
   ]
  },
  {
   "cell_type": "markdown",
   "metadata": {},
   "source": [
    "#### Construction d'une matrice par blocs"
   ]
  },
  {
   "cell_type": "code",
   "execution_count": 27,
   "metadata": {
    "collapsed": false
   },
   "outputs": [
    {
     "name": "stdout",
     "output_type": "stream",
     "text": [
      "[[ 2  1  1  1  2]\n",
      " [ 4  3  0 12  0]\n",
      " [ 1  2  1  2 -4]\n",
      " [12  0  2  0  0]\n",
      " [-1  2  1  2  3]]\n"
     ]
    }
   ],
   "source": [
    "from pylab import *\n",
    "A = array([[2, 1, 1], [4, 3, 0]])\n",
    "B = array([[1, 2], [12, 0]])\n",
    "C = array([[1, 2], [12, 0], [-1, 2]])\n",
    "D = array([[1, 2, -4], [2, 0, 0], [1, 2, 3]])\n",
    "print bmat([[A, B], [C, D]])"
   ]
  },
  {
   "cell_type": "markdown",
   "metadata": {},
   "source": [
    "On peut construire une matrice par blocs, à partir de sous-matrices, en utilisant la fonction bmat.\n",
    "\n"
   ]
  },
  {
   "cell_type": "markdown",
   "metadata": {},
   "source": [
    "#### Argument axis"
   ]
  },
  {
   "cell_type": "markdown",
   "metadata": {},
   "source": [
    "Beaucoup de fonctions de numpy ont un argument nommé axis. Par exemple sum(X, axis=1) calcule la somme de chaque ligne de X, cumsum(X, axis=0) calcule la somme cumulée des colonnes de X, etc."
   ]
  },
  {
   "cell_type": "markdown",
   "metadata": {},
   "source": [
    "#### La lecture/écriture de tableaux numpy"
   ]
  },
  {
   "cell_type": "code",
   "execution_count": 28,
   "metadata": {
    "collapsed": false
   },
   "outputs": [],
   "source": [
    "X = randn(1000, 1000) # On genere une matrice gausienne standard iid\n",
    "save(\"X.npy\", X)      # On l'enregistre dans un fichier appele \"X.npy\"\n",
    "X2 = load(\"X.npy\")    # On charge le fichier \"X.npy\" dans un objet appele X2"
   ]
  },
  {
   "cell_type": "markdown",
   "metadata": {},
   "source": [
    "La lecture/écriture de tableaux numpy se fait avec les fonctions load et save. L'enregistrement sur le disque est fait en format binaire, donc on ne peut pas visualiser ce type de fichier avec un éditeur de texte par exemple. La convention est de donner l'extension .npy à ce type de fichier"
   ]
  },
  {
   "cell_type": "markdown",
   "metadata": {},
   "source": [
    "## Affichages graphique, la librairie matplotlib"
   ]
  },
  {
   "cell_type": "markdown",
   "metadata": {},
   "source": [
    "Quelques fonctions de base pour faire des représentations graphiques avec matplotlib. On regardera la documentation de matplotlib pour plus de détails, cf :\n",
    "\n",
    "http://matplotlib.org/api/pyplot_summary.html donne un résumé des fonctions principales\n",
    "\n",
    "http://matplotlib.org/users/pyplot_tutorial.html est un bon tutoriel pour commencer\n",
    "\n",
    "Et quelques “recettes de cuisine” matplotlib dont ici :http://matplotlib.org/users/recipes.html\n",
    "\n",
    "http://matplotlib.org/gallery.html donne beaucoup d'exemples, avec le code source utilisé pour les obtenir\n",
    "\n",
    "\n",
    "En résumé :\n",
    "\n",
    "plot(x, y) affiche la courbe affine par morceaux reliant les points d'abscisses x et d'ordonnée y\n",
    "\n",
    "\n",
    "hist(x) trace l'histogramme du vecteur x. Il faut spécifier l'option normed=True pour afficher l'histogramme normalisé (d'aire égale à 1)\n",
    "\n",
    "bar(x, y, width=1.) , affiche un diagramme en bâtons aux positions x et hauteurs y label=“loi empirique”)\n",
    "\n",
    "scatter(x, y) affiche le nuage de points d'abscisses x et d'ordonnée y\n",
    "\n",
    "stem(x, y) affiche des barres verticales en position x et de hauteur y\n",
    "\n",
    "show() affiche les fenêtres créées dans le script\n",
    "\n",
    "figure() crée une nouvelle fenêtre graphique\n",
    "\n",
    "title() permet de donner un titre à une figure\n",
    "\n",
    "legend() affiche la légende d'un graphique\n",
    "\n",
    "subplot() subdivise la fenêtre graphique de façon à y afficher plusieurs graphiques dans la même figure"
   ]
  },
  {
   "cell_type": "markdown",
   "metadata": {},
   "source": [
    "#### Un exemple"
   ]
  },
  {
   "cell_type": "code",
   "execution_count": null,
   "metadata": {
    "collapsed": false
   },
   "outputs": [],
   "source": [
    "import numpy.random as npr\n",
    "import scipy.stats as sps\n",
    "\n",
    "# Intensite de la loi de Poisson\n",
    "mu = 0.5\n",
    "# Nombre de simulations\n",
    "N = 1000\n",
    "# Simulation de N variables de loi de Poisson d'intensite mu\n",
    "X = npr.poisson(mu, N)\n",
    "# count[k] contient la proportion de k dans le vecteur X\n",
    "counts = bincount(X) / float(N)\n",
    "# x contient 0, 1, , ..., M ou M est le maximum de X\n",
    "x = arange(len(counts))\n",
    "# f_x contient la probabilite theorique de la loi de Poisson en x\n",
    "f_x = sps.poisson.pmf(x, mu)\n",
    "# On affiche un bar plot pour la distribution empirique\n",
    "bar(x - 0.5, counts, width=1., label=\"loi empirique\")\n",
    "# On affiche un stem plot pour la distribution theorique\n",
    "p2 = stem(x, f_x, \"r\", label=\"loi theorique\")\n",
    "legend()\n",
    "show()"
   ]
  },
  {
   "cell_type": "markdown",
   "metadata": {},
   "source": [
    "Presque toutes les fonctions de matplotlib acceptent un argument optionel label, qui permet de donner un nom à au graphe tracé, et générer ainsi facilement une légende. Par exemple, le script suivant affiche une la distribution empirique d'un échantillon simulé de loi de poisson avec un bar plot, et affiche la distribution théorique avec un stem plot :"
   ]
  },
  {
   "cell_type": "markdown",
   "metadata": {},
   "source": [
    "### Calcul scientifique, la librarie scipy"
   ]
  },
  {
   "cell_type": "markdown",
   "metadata": {},
   "source": [
    " la librairie scipy principalement pour obtenir facilement les densités, fonctions de répartition et fonctions quantiles des lois classiques. Cela est disponible dans scipy.stats. Un exemple avec la loi de poisson est donné au dessus."
   ]
  },
  {
   "cell_type": "code",
   "execution_count": null,
   "metadata": {
    "collapsed": false
   },
   "outputs": [],
   "source": []
  }
 ],
 "metadata": {
  "kernelspec": {
   "display_name": "Python 3",
   "language": "python",
   "name": "python3"
  },
  "language_info": {
   "codemirror_mode": {
    "name": "ipython",
    "version": 3
   },
   "file_extension": ".py",
   "mimetype": "text/x-python",
   "name": "python",
   "nbconvert_exporter": "python",
   "pygments_lexer": "ipython3",
   "version": "3.4.3"
  }
 },
 "nbformat": 4,
 "nbformat_minor": 0
}
